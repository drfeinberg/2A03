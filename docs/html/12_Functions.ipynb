{
 "cells": [
  {
   "cell_type": "markdown",
   "metadata": {
    "id": "e3Q2wa0-cKHC"
   },
   "source": [
    "# Functions\n"
   ]
  },
  {
   "cell_type": "markdown",
   "metadata": {
    "collapsed": true,
    "id": "NGq6m462cKHH"
   },
   "source": [
    "A function is a re-usable piece of code that performs operations on a specified set of variables, and returns the result. Functions should do only thing each, and many functions can and should be used together.  This increases code organiztion and readability.\n",
    "\n",
    "Any time you reuse the same code in a program, you should use a funtion instead.\n",
    "\n",
    "A function is a way to name a bit of code. For example, you could type:\n",
    "\n",
    "```volume =  length * width * height```  \n",
    "\n",
    "to calculate your volume.  And that works and everyone is happy.  \n",
    "\n",
    "But what if you have to calculate the volume of thousands or millions of rectangular blocks? You would have to type that code out thousands or millions of times.  Instead, we make a function, and we give it a name, we give it some input, and we get some output.\n",
    "\n",
    " ```volume = calculate_volume(length, width, height)``` \n",
    "\n",
    "We're going to also use functions to talk about the concepts in our code rather than just typing all of the code. It's theoretically possible, especially when beginning, to not use any functions and get away with it.  But as we progress in our coding journey, higher and higher levels of abstraction help us code complicated things. "
   ]
  },
  {
   "cell_type": "markdown",
   "metadata": {
    "id": "Oo5OAvArw5cG"
   },
   "source": [
    "The structure of a function is as such:\n",
    "```\n",
    "def function_name(function_input):\n",
    "  function_output = do something\n",
    "  return function_output\n",
    "```"
   ]
  },
  {
   "cell_type": "markdown",
   "metadata": {
    "id": "R_ZdHV1LMEgE"
   },
   "source": [
    "You have been using functions all along so far. Every command you've run in Python so far is a function (or a class behaving as a function)."
   ]
  },
  {
   "cell_type": "markdown",
   "metadata": {
    "id": "hnP5we2Q3DRq"
   },
   "source": [
    "We can start with some basic functions"
   ]
  },
  {
   "cell_type": "code",
   "execution_count": 1,
   "metadata": {
    "colab": {
     "base_uri": "https://localhost:8080/"
    },
    "id": "D9iFdmuPcKHI",
    "outputId": "5eb335a9-6187-4b31-c085-aa669ddbb562"
   },
   "outputs": [
    {
     "data": {
      "text/plain": [
       "9.0"
      ]
     },
     "execution_count": 1,
     "metadata": {},
     "output_type": "execute_result"
    }
   ],
   "source": [
    "def square_root(number):\n",
    "    number **= 0.5\n",
    "    return number\n",
    "\n",
    "square_root(81)"
   ]
  },
  {
   "cell_type": "code",
   "execution_count": 2,
   "metadata": {
    "colab": {
     "base_uri": "https://localhost:8080/"
    },
    "id": "Na-oU_WmMeUO",
    "outputId": "70537b20-d343-4b99-bc91-0b37ce846c23"
   },
   "outputs": [
    {
     "data": {
      "text/plain": [
       "16.0"
      ]
     },
     "execution_count": 2,
     "metadata": {},
     "output_type": "execute_result"
    }
   ],
   "source": [
    "square_root(256)"
   ]
  },
  {
   "cell_type": "code",
   "execution_count": 3,
   "metadata": {
    "colab": {
     "base_uri": "https://localhost:8080/"
    },
    "id": "Ep_pJxX4xnAt",
    "outputId": "9c3aad83-42cf-4cad-9304-4208329ee9ac"
   },
   "outputs": [
    {
     "data": {
      "text/plain": [
       "34"
      ]
     },
     "execution_count": 3,
     "metadata": {},
     "output_type": "execute_result"
    }
   ],
   "source": [
    "def letter_count(word): \n",
    "  return len(word)\n",
    "\n",
    "letter_count(\"supercalifragilisticexpialidocious\")"
   ]
  },
  {
   "cell_type": "code",
   "execution_count": 4,
   "metadata": {
    "colab": {
     "base_uri": "https://localhost:8080/"
    },
    "id": "VZq6Oeo_NATS",
    "outputId": "6801ad75-e601-46d1-a618-0628d327b975"
   },
   "outputs": [
    {
     "data": {
      "text/plain": [
       "17"
      ]
     },
     "execution_count": 4,
     "metadata": {},
     "output_type": "execute_result"
    }
   ],
   "source": [
    "def word_count(sentence):\n",
    "    words = sentence.split()\n",
    "    return len(words)\n",
    "\n",
    "word_count(\"When the sunlight strikes raindrops in the air, they act as a prism and form a rainbow.\")"
   ]
  },
  {
   "cell_type": "code",
   "execution_count": 5,
   "metadata": {
    "colab": {
     "base_uri": "https://localhost:8080/"
    },
    "id": "2wO5AZnnyxFL",
    "outputId": "80c18208-10e4-4795-8e18-4f29c7dbbea9"
   },
   "outputs": [
    {
     "data": {
      "text/plain": [
       "6445"
      ]
     },
     "execution_count": 5,
     "metadata": {},
     "output_type": "execute_result"
    }
   ],
   "source": [
    "def reverse_digits(digits):\n",
    "    digit_str = str(digits)\n",
    "    reversed_str = digit_str[::-1]\n",
    "    reversed = int(reversed_str)\n",
    "    return reversed\n",
    "\n",
    "reverse_digits(5446)"
   ]
  },
  {
   "cell_type": "markdown",
   "metadata": {
    "id": "IouZFXdRI5ld"
   },
   "source": [
    "**Deep dive**\n",
    "\n",
    "In a function like the one above, where there's only one line of code, it can execute in the return statement like this:\n",
    "\n",
    "\n",
    "\n",
    "```\n",
    "def add_two_numbers(num1, num2):\n",
    "    return num1 + num2\n",
    "```\n",
    "\n"
   ]
  },
  {
   "cell_type": "markdown",
   "metadata": {},
   "source": [
    "# Try and Except\n",
    "\n",
    "Try and except exist to help coders catch errors and instead of the program stopping and giving an error, it can give a custom error message and/or do something else."
   ]
  },
  {
   "cell_type": "code",
   "execution_count": 6,
   "metadata": {},
   "outputs": [],
   "source": [
    "try:\n",
    "    # Tries to do this code\n",
    "    pass\n",
    "except:\n",
    "    # If there is an error, keep going and do this instead\n",
    "    ..."
   ]
  },
  {
   "cell_type": "markdown",
   "metadata": {},
   "source": [
    "### Here is  an example using 'try` / `except`\n",
    "#### We want to get an ID number from the participant"
   ]
  },
  {
   "cell_type": "code",
   "execution_count": null,
   "metadata": {},
   "outputs": [],
   "source": [
    "participant_id = input(\"Please type your participant ID number: \")\n",
    "\n",
    "print('Your Participant ID number is: ', participant_id)"
   ]
  },
  {
   "cell_type": "code",
   "execution_count": null,
   "metadata": {},
   "outputs": [],
   "source": [
    "try:\n",
    "    participant_id = input('Please type your Participant ID number: ') # participant_id is a string\n",
    "    int(participant_id) # try to convert the participant_id into an integer.  It will crash if any of the character(s) in the string are not integers.\n",
    "    print('Your Participant ID number is: ', participant_id)\n",
    "except:\n",
    "    print(\"That's not a valid Participant ID number\")"
   ]
  },
  {
   "cell_type": "markdown",
   "metadata": {},
   "source": [
    "#### Try / Except within a While Loop"
   ]
  },
  {
   "cell_type": "code",
   "execution_count": null,
   "metadata": {},
   "outputs": [],
   "source": [
    "ask_for_num = True\n",
    "while ask_for_num:\n",
    "    try:\n",
    "        participant_id = input('Please type your Participant ID number: ') # participant_id is a string\n",
    "        int(participant_id) # try to convert the participant_id into an integer.  It will crash if any of the character(s) in the string are not integers.\n",
    "        ask_for_num = False\n",
    "    except:\n",
    "        print(\"Oops!  That was not valid participant ID number. Try again!\")\n",
    "        \n",
    "print('Your Participant ID number is: ', participant_id)"
   ]
  },
  {
   "cell_type": "markdown",
   "metadata": {},
   "source": [
    "### More Try / Except"
   ]
  },
  {
   "cell_type": "code",
   "execution_count": null,
   "metadata": {},
   "outputs": [],
   "source": [
    "def divide(num1, num2):\n",
    "    return num1 / num2\n",
    "\n",
    "def safe_divide(num1, num2):\n",
    "    \n",
    "    try:\n",
    "        output = num1 / num2\n",
    "    except ZeroDivisionError:\n",
    "        output = None\n",
    "    \n",
    "    return output"
   ]
  },
  {
   "cell_type": "code",
   "execution_count": null,
   "metadata": {},
   "outputs": [],
   "source": [
    "print(divide(2, 0))"
   ]
  },
  {
   "cell_type": "code",
   "execution_count": null,
   "metadata": {},
   "outputs": [],
   "source": [
    "print(safe_divide(2, 0))"
   ]
  },
  {
   "cell_type": "markdown",
   "metadata": {
    "id": "fW10tmQo3Snd"
   },
   "source": [
    "## A lot of times, we are trying to do something in a function that's more than just one line.\n",
    "\n",
    "We use 1-line functions to abstract or give a name to an operation. Sometimes we even use it to rename a function to fit a coding style.\n"
   ]
  },
  {
   "cell_type": "markdown",
   "metadata": {
    "id": "YYaEu6umcKHY"
   },
   "source": [
    "## Function Example\n",
    "\n",
    "\n",
    "- Check if the numbers are `int` or `float` and not `str`\n",
    "- If they are strings, convert them to floats\n",
    "- If it's not even a number in the string\n",
    "    - tell the user which variable is wrong\n",
    "- If the input variable passes the checks\n",
    "    - Add the numbers\n",
    "    - Return the result"
   ]
  },
  {
   "cell_type": "code",
   "execution_count": null,
   "metadata": {
    "id": "DKu6XEkDcKHY"
   },
   "outputs": [],
   "source": [
    "def add_two_numbers(num1, num2):\n",
    "    # Check if the numbers are really numbers and not strings\n",
    "    # If they are strings, convert them to floats\n",
    "    if isinstance(num1, str):\n",
    "        try:\n",
    "            num1 = float(num1)   \n",
    "        except ValueError:\n",
    "            print(f\"The value for num1 in the add_two_numbers_function was not a valid number.\")   \n",
    "    if isinstance(num2, str):\n",
    "        try:\n",
    "            num2 = float(num2)\n",
    "        except ValueError:\n",
    "            print(f\"The value  for num2 in the add_two_numbers_function was not a valid number.\")   \n",
    "\n",
    "    # Add the numbers  \n",
    "    answer = num1 + num2  \n",
    "    \n",
    "    # Return the result\n",
    "    return answer"
   ]
  },
  {
   "cell_type": "code",
   "execution_count": null,
   "metadata": {
    "colab": {
     "base_uri": "https://localhost:8080/",
     "height": 391
    },
    "id": "rLhx_IUhcKHe",
    "outputId": "fabe9599-d432-44d7-dcdf-9db1e16a098d"
   },
   "outputs": [
    {
     "name": "stdout",
     "output_type": "stream",
     "text": [
      "-1 + 7 = 6\n",
      "2 + 2.5 = 4.5\n",
      "4 + 5 = 9.0\n",
      "The value for num1 in the add_two_numbers_function was not a valid number.\n"
     ]
    },
    {
     "ename": "TypeError",
     "evalue": "ignored",
     "output_type": "error",
     "traceback": [
      "\u001b[0;31m---------------------------------------------------------------------------\u001b[0m",
      "\u001b[0;31mTypeError\u001b[0m                                 Traceback (most recent call last)",
      "\u001b[0;32m<ipython-input-9-b09c57b59832>\u001b[0m in \u001b[0;36m<module>\u001b[0;34m\u001b[0m\n\u001b[1;32m      8\u001b[0m \u001b[0;34m\u001b[0m\u001b[0m\n\u001b[1;32m      9\u001b[0m \u001b[0;32mfor\u001b[0m \u001b[0mitem\u001b[0m \u001b[0;32min\u001b[0m \u001b[0mlist_of_inputs\u001b[0m\u001b[0;34m:\u001b[0m\u001b[0;34m\u001b[0m\u001b[0;34m\u001b[0m\u001b[0m\n\u001b[0;32m---> 10\u001b[0;31m     \u001b[0mprint\u001b[0m\u001b[0;34m(\u001b[0m\u001b[0;34mf'{item[0]} + {item[1]} = {add_two_numbers(item[0], item[1])}'\u001b[0m\u001b[0;34m)\u001b[0m\u001b[0;34m\u001b[0m\u001b[0;34m\u001b[0m\u001b[0m\n\u001b[0m",
      "\u001b[0;32m<ipython-input-8-900e275741b0>\u001b[0m in \u001b[0;36madd_two_numbers\u001b[0;34m(num1, num2)\u001b[0m\n\u001b[1;32m     14\u001b[0m \u001b[0;34m\u001b[0m\u001b[0m\n\u001b[1;32m     15\u001b[0m     \u001b[0;31m# Add the numbers\u001b[0m\u001b[0;34m\u001b[0m\u001b[0;34m\u001b[0m\u001b[0;34m\u001b[0m\u001b[0m\n\u001b[0;32m---> 16\u001b[0;31m     \u001b[0manswer\u001b[0m \u001b[0;34m=\u001b[0m \u001b[0mnum1\u001b[0m \u001b[0;34m+\u001b[0m \u001b[0mnum2\u001b[0m\u001b[0;34m\u001b[0m\u001b[0;34m\u001b[0m\u001b[0m\n\u001b[0m\u001b[1;32m     17\u001b[0m \u001b[0;34m\u001b[0m\u001b[0m\n\u001b[1;32m     18\u001b[0m     \u001b[0;31m# Return the result\u001b[0m\u001b[0;34m\u001b[0m\u001b[0;34m\u001b[0m\u001b[0;34m\u001b[0m\u001b[0m\n",
      "\u001b[0;31mTypeError\u001b[0m: can only concatenate str (not \"int\") to str"
     ]
    }
   ],
   "source": [
    "# Execute our function again, on some other inputs\n",
    "list_of_inputs = [\n",
    "    (-1, 7),\n",
    "    (2, 2.5),\n",
    "    (\"4\", \"5\"),\n",
    "    ('a', 4),\n",
    "]\n",
    "\n",
    "for item in list_of_inputs: \n",
    "    print(f'{item[0]} + {item[1]} = {add_two_numbers(item[0], item[1])}')  "
   ]
  },
  {
   "cell_type": "markdown",
   "metadata": {
    "id": "O9umbcDd6qyN"
   },
   "source": [
    "**Deep Dive**\n",
    "\n",
    "Instead of using ```item[0], item[1]``` as the input for the function, we can use the ```*``` character to unpack the tuple like this:\n",
    "\n",
    "\n"
   ]
  },
  {
   "cell_type": "code",
   "execution_count": null,
   "metadata": {
    "colab": {
     "base_uri": "https://localhost:8080/",
     "height": 391
    },
    "id": "KvUJ_Ow068xF",
    "outputId": "4640e296-6963-4769-abdf-f6697e48e788"
   },
   "outputs": [
    {
     "name": "stdout",
     "output_type": "stream",
     "text": [
      "-1 + 7 = 6\n",
      "2 + 2.5 = 4.5\n",
      "4 + 5 = 9.0\n",
      "The value  for num2 in the add_two_numbers_function was not a valid number.\n"
     ]
    },
    {
     "ename": "TypeError",
     "evalue": "ignored",
     "output_type": "error",
     "traceback": [
      "\u001b[0;31m---------------------------------------------------------------------------\u001b[0m",
      "\u001b[0;31mTypeError\u001b[0m                                 Traceback (most recent call last)",
      "\u001b[0;32m<ipython-input-10-deb2d1109059>\u001b[0m in \u001b[0;36m<module>\u001b[0;34m\u001b[0m\n\u001b[1;32m      8\u001b[0m \u001b[0;34m\u001b[0m\u001b[0m\n\u001b[1;32m      9\u001b[0m \u001b[0;32mfor\u001b[0m \u001b[0mitem\u001b[0m \u001b[0;32min\u001b[0m \u001b[0mlist_of_inputs\u001b[0m\u001b[0;34m:\u001b[0m\u001b[0;34m\u001b[0m\u001b[0;34m\u001b[0m\u001b[0m\n\u001b[0;32m---> 10\u001b[0;31m     \u001b[0mprint\u001b[0m\u001b[0;34m(\u001b[0m\u001b[0;34mf'{item[0]} + {item[1]} = {add_two_numbers(*item)}'\u001b[0m\u001b[0;34m)\u001b[0m\u001b[0;34m\u001b[0m\u001b[0;34m\u001b[0m\u001b[0m\n\u001b[0m",
      "\u001b[0;32m<ipython-input-8-900e275741b0>\u001b[0m in \u001b[0;36madd_two_numbers\u001b[0;34m(num1, num2)\u001b[0m\n\u001b[1;32m     14\u001b[0m \u001b[0;34m\u001b[0m\u001b[0m\n\u001b[1;32m     15\u001b[0m     \u001b[0;31m# Add the numbers\u001b[0m\u001b[0;34m\u001b[0m\u001b[0;34m\u001b[0m\u001b[0;34m\u001b[0m\u001b[0m\n\u001b[0;32m---> 16\u001b[0;31m     \u001b[0manswer\u001b[0m \u001b[0;34m=\u001b[0m \u001b[0mnum1\u001b[0m \u001b[0;34m+\u001b[0m \u001b[0mnum2\u001b[0m\u001b[0;34m\u001b[0m\u001b[0;34m\u001b[0m\u001b[0m\n\u001b[0m\u001b[1;32m     17\u001b[0m \u001b[0;34m\u001b[0m\u001b[0m\n\u001b[1;32m     18\u001b[0m     \u001b[0;31m# Return the result\u001b[0m\u001b[0;34m\u001b[0m\u001b[0;34m\u001b[0m\u001b[0;34m\u001b[0m\u001b[0m\n",
      "\u001b[0;31mTypeError\u001b[0m: unsupported operand type(s) for +: 'int' and 'str'"
     ]
    }
   ],
   "source": [
    "list_of_inputs = [\n",
    "    (-1, 7),\n",
    "    (2, 2.5),\n",
    "    (\"4\", \"5\"),\n",
    "    (4, 'a'),\n",
    "]\n",
    "\n",
    "\n",
    "for item in list_of_inputs: \n",
    "    print(f'{item[0]} + {item[1]} = {add_two_numbers(*item)}')  "
   ]
  },
  {
   "cell_type": "markdown",
   "metadata": {
    "id": "qGkzrn2o7JRN"
   },
   "source": [
    "You can also get fancier and use a dictionary to define the inputs with keyword arguments. This is good if your function has lots of arguments.  But then you need two ```**```'s"
   ]
  },
  {
   "cell_type": "code",
   "execution_count": null,
   "metadata": {
    "colab": {
     "base_uri": "https://localhost:8080/"
    },
    "id": "RVPXx5sR7UOp",
    "outputId": "3a238616-3403-4d05-f4c8-67e8c1bfd389"
   },
   "outputs": [
    {
     "data": {
      "text/plain": [
       "3"
      ]
     },
     "execution_count": 11,
     "metadata": {},
     "output_type": "execute_result"
    }
   ],
   "source": [
    "args = {\n",
    "    'num1': 1,\n",
    "    'num2': 2\n",
    "}\n",
    "\n",
    "add_two_numbers(**args)"
   ]
  },
  {
   "cell_type": "markdown",
   "metadata": {
    "id": "yNEtu_V-8DuM"
   },
   "source": [
    "There's one more thing, which is specifying an unlimited number of arguments.  You can do this with positional arguemnts with ```*args``` and keyword arguments with ```*kwargs```\n",
    "\n",
    "When would you do this?  What if you wanted to make a function that can take the sum of a bunch of numbers, but you didn't know how many numbers you needed to add ahead of time.  This is what ```*args``` is great for.\n",
    "\n",
    "Let's do it...\n"
   ]
  },
  {
   "cell_type": "code",
   "execution_count": null,
   "metadata": {
    "colab": {
     "base_uri": "https://localhost:8080/"
    },
    "id": "C_nSHcJh8pnF",
    "outputId": "5d44cf27-b206-409f-916d-270188ba5d4c"
   },
   "outputs": [
    {
     "name": "stdout",
     "output_type": "stream",
     "text": [
      "1\n",
      "3\n",
      "55\n"
     ]
    }
   ],
   "source": [
    "def add_lots_of_numbers(*args):\n",
    "    total = 0\n",
    "    for arg in args:\n",
    "        total += arg\n",
    "    return total\n",
    "\n",
    "print(add_lots_of_numbers(1))\n",
    "print(add_lots_of_numbers(1, 2))\n",
    "print(add_lots_of_numbers(1, 2, 3, 4, 5, 6, 7, 8, 9, 10))"
   ]
  },
  {
   "cell_type": "markdown",
   "metadata": {
    "id": "X8QuihN09XBE"
   },
   "source": [
    "**kwargs is good for cases where you have optional arguments.  A lot of times this comes from inheriting classes, which is something we'll get to later.  We'll really get to doing this more when we do some plotting and data engineering.  For now, here's an example of us concatenating some strings together from a dictionary.  Some people will have two names, and some people have 3 or more names, and we need to accomodate that.\n",
    "\n",
    "kwargs becomes a dictionary so we can access the keyword and it's value."
   ]
  },
  {
   "cell_type": "code",
   "execution_count": null,
   "metadata": {
    "id": "bX5SfNyi9WVE"
   },
   "outputs": [],
   "source": [
    "def get_full_name(**kwargs):\n",
    "    print(type(kwargs))\n",
    "    print(kwargs)\n",
    "    print(kwargs.keys())\n",
    "    print(kwargs.values())\n",
    "    full_name = ' '.join(kwargs.values())\n",
    "    print(full_name)\n",
    "    return full_name"
   ]
  },
  {
   "cell_type": "code",
   "execution_count": null,
   "metadata": {
    "colab": {
     "base_uri": "https://localhost:8080/",
     "height": 122
    },
    "id": "prBqX1DjBOfu",
    "outputId": "6cbba870-af1e-44f1-c114-529f32e2a725"
   },
   "outputs": [
    {
     "name": "stdout",
     "output_type": "stream",
     "text": [
      "<class 'dict'>\n",
      "{'first_name': 'David', 'last_name': 'Feinberg'}\n",
      "dict_keys(['first_name', 'last_name'])\n",
      "dict_values(['David', 'Feinberg'])\n",
      "David Feinberg\n"
     ]
    },
    {
     "data": {
      "application/vnd.google.colaboratory.intrinsic+json": {
       "type": "string"
      },
      "text/plain": [
       "'David Feinberg'"
      ]
     },
     "execution_count": 16,
     "metadata": {},
     "output_type": "execute_result"
    }
   ],
   "source": [
    "full_name = get_full_name(first_name='David', last_name='Feinberg')\n",
    "full_name"
   ]
  },
  {
   "cell_type": "code",
   "execution_count": null,
   "metadata": {
    "colab": {
     "base_uri": "https://localhost:8080/",
     "height": 122
    },
    "id": "nYvWLs42BP9R",
    "outputId": "e5fca691-0ec7-408c-ac7f-20b642a28c4d"
   },
   "outputs": [
    {
     "name": "stdout",
     "output_type": "stream",
     "text": [
      "<class 'dict'>\n",
      "{'first_name': 'David', 'middle_name': 'Russell', 'last_name': 'Feinberg'}\n",
      "dict_keys(['first_name', 'middle_name', 'last_name'])\n",
      "dict_values(['David', 'Russell', 'Feinberg'])\n",
      "David Russell Feinberg\n"
     ]
    },
    {
     "data": {
      "application/vnd.google.colaboratory.intrinsic+json": {
       "type": "string"
      },
      "text/plain": [
       "'David Russell Feinberg'"
      ]
     },
     "execution_count": 18,
     "metadata": {},
     "output_type": "execute_result"
    }
   ],
   "source": [
    "full_name = get_full_name(first_name='David', middle_name='Russell', last_name='Feinberg')\n",
    "full_name"
   ]
  },
  {
   "cell_type": "markdown",
   "metadata": {
    "id": "LXlexblPcKHj"
   },
   "source": [
    "## Function Properties"
   ]
  },
  {
   "cell_type": "markdown",
   "metadata": {
    "id": "8KeTdOKccKHl"
   },
   "source": [
    "- Functions are defined using `def` followed by `:`\n",
    "- Running code with a `def` block *defines* the function (but does not *execute* it)\n",
    "    - To execute the code you have to call the function\n",
    "- Functions are *executed* using parentheses - '()'\n",
    "- Functions have their own namespace\n",
    "    - They only have access to variables explicitly passed into them, and any variables in the functions's outer-scope.\n",
    "        - If you use the same variable name inside and outside the function, python will create a new variable with that name inside the function's namespace.\n",
    "            - That variable will be available to the function, but not the outer scope.\n",
    "        - It's recommended not to use variables in the outer-scoppe inside the function, but to pass the variable into the function and return a value.  This avoids accidentally changing a value from the outer-scope.\n",
    "        - This is because functions are supposed to be encapsulated and do only 1 thing. They are not supposed to have side effects --meaning they should not affect the main program.\n",
    "- Inside a function, there is code that performs operations on the available variables\n",
    "- Functions use the special operator `return` to exit the function, passing out any specified variables\n",
    "- When you use a function, you can assign the output to a variable"
   ]
  },
  {
   "cell_type": "markdown",
   "metadata": {
    "collapsed": true,
    "id": "byhNLXJucKHl"
   },
   "source": [
    "## Question #1"
   ]
  },
  {
   "cell_type": "code",
   "execution_count": null,
   "metadata": {
    "id": "qTri-TbecKHm"
   },
   "outputs": [],
   "source": [
    "def remainder(number, divider):\n",
    "    remainder = number % divider\n",
    "    return remainder"
   ]
  },
  {
   "cell_type": "markdown",
   "metadata": {
    "id": "nieTXFDncKHr"
   },
   "source": [
    "Given the function above, what will the code below print out?"
   ]
  },
  {
   "cell_type": "code",
   "execution_count": null,
   "metadata": {
    "colab": {
     "base_uri": "https://localhost:8080/"
    },
    "id": "wfxzu1tocKHs",
    "outputId": "9ee7c09d-cc55-4f13-a868-2e4b44052377"
   },
   "outputs": [
    {
     "name": "stdout",
     "output_type": "stream",
     "text": [
      "2\n"
     ]
    }
   ],
   "source": [
    "ans_1 = remainder(12, 5)\n",
    "ans_2 = remainder(2, 2)\n",
    "print(ans_1 + ans_2)"
   ]
  },
  {
   "cell_type": "markdown",
   "metadata": {
    "id": "B4LIolHJcKHw"
   },
   "source": [
    "A) 0  \n",
    "B) 1  \n",
    "C) 2  \n",
    "D) 3  \n",
    "E) None"
   ]
  },
  {
   "cell_type": "markdown",
   "metadata": {
    "id": "hmmD9ZT_cKHw"
   },
   "source": [
    "# Function Examples"
   ]
  },
  {
   "cell_type": "markdown",
   "metadata": {
    "id": "cdXrvprycKHx"
   },
   "source": [
    "### Get the participant's ID number"
   ]
  },
  {
   "cell_type": "code",
   "execution_count": null,
   "metadata": {
    "id": "Mu5YuFOPcKHy"
   },
   "outputs": [],
   "source": [
    "def get_id():\n",
    "    id_number = input(\"Please type your ID number:\\n\")\n",
    "    return id_number"
   ]
  },
  {
   "cell_type": "code",
   "execution_count": null,
   "metadata": {
    "colab": {
     "base_uri": "https://localhost:8080/",
     "height": 70
    },
    "id": "o76Xb2e1cKH3",
    "outputId": "69684135-b760-414c-99dc-1172ca8fa794"
   },
   "outputs": [
    {
     "name": "stdout",
     "output_type": "stream",
     "text": [
      "Please type your ID number:\n",
      "\n"
     ]
    },
    {
     "data": {
      "application/vnd.google.colaboratory.intrinsic+json": {
       "type": "string"
      },
      "text/plain": [
       "''"
      ]
     },
     "execution_count": 23,
     "metadata": {},
     "output_type": "execute_result"
    }
   ],
   "source": [
    "current_participant = get_id()\n",
    "current_participant"
   ]
  },
  {
   "cell_type": "markdown",
   "metadata": {
    "id": "LsBADEfqcKH7"
   },
   "source": [
    "### Take the square root of a number\n"
   ]
  },
  {
   "cell_type": "code",
   "execution_count": null,
   "metadata": {
    "id": "VcE8gCMacKH8"
   },
   "outputs": [],
   "source": [
    "def sqrt(number):\n",
    "    square_root = number ** 0.5\n",
    "    return square_root"
   ]
  },
  {
   "cell_type": "code",
   "execution_count": null,
   "metadata": {
    "colab": {
     "base_uri": "https://localhost:8080/"
    },
    "id": "GE6sDWMBcKIA",
    "outputId": "72ca9187-c2b6-40ba-9753-e170f43448bf"
   },
   "outputs": [
    {
     "data": {
      "text/plain": [
       "9.0"
      ]
     },
     "execution_count": 25,
     "metadata": {},
     "output_type": "execute_result"
    }
   ],
   "source": [
    "sqrt(81)"
   ]
  },
  {
   "cell_type": "markdown",
   "metadata": {
    "id": "Kg8K5Ep2cKIE"
   },
   "source": [
    "### Go through two lists and multiply the corresponding elements together\n"
   ]
  },
  {
   "cell_type": "code",
   "execution_count": null,
   "metadata": {
    "id": "8viMNQ4jcKIF"
   },
   "outputs": [],
   "source": [
    "def multiply_lists(list1, list2):\n",
    "    products = []\n",
    "    for item in zip(list1, list2):\n",
    "        product = item[0] * item[1]\n",
    "        products.append(product)\n",
    "    return products"
   ]
  },
  {
   "cell_type": "code",
   "execution_count": null,
   "metadata": {
    "colab": {
     "base_uri": "https://localhost:8080/"
    },
    "id": "bFzU1PzLcKIJ",
    "outputId": "63bb4ecd-cb1d-484c-ac8c-d0986d0c90f5"
   },
   "outputs": [
    {
     "data": {
      "text/plain": [
       "[2, 8, 18, 32, 50, 72, 98, 128, 162, 200]"
      ]
     },
     "execution_count": 27,
     "metadata": {},
     "output_type": "execute_result"
    }
   ],
   "source": [
    "list1 = [1, 2, 3, 4, 5, 6, 7, 8, 9, 10]\n",
    "list2 = [2, 4, 6, 8, 10, 12, 14, 16, 18, 20]\n",
    "products = multiply_lists(list1, list2)\n",
    "products"
   ]
  },
  {
   "cell_type": "markdown",
   "metadata": {
    "id": "LHFL57BvcKIM"
   },
   "source": [
    "## Function Namespace I"
   ]
  },
  {
   "cell_type": "markdown",
   "metadata": {
    "id": "Mm3Rmq_wSXKf"
   },
   "source": [
    "In google colab you can see all the variables by pressing:\n",
    "\n",
    "{x}\n",
    "\n",
    "on the left hand side.\n"
   ]
  },
  {
   "cell_type": "markdown",
   "metadata": {
    "id": "ZNk96Q8MShJE"
   },
   "source": [
    "Using jupyter magic, you can also do `%whos`"
   ]
  },
  {
   "cell_type": "code",
   "execution_count": null,
   "metadata": {
    "colab": {
     "base_uri": "https://localhost:8080/"
    },
    "id": "BXF5jUpecKIN",
    "outputId": "779509b2-714a-4627-ceb8-8933f50dd129"
   },
   "outputs": [
    {
     "name": "stdout",
     "output_type": "stream",
     "text": [
      "Variable              Type        Data/Info\n",
      "-------------------------------------------\n",
      "add_lots_of_numbers   function    <function add_lots_of_numbers at 0x7f625c12fa70>\n",
      "add_two_numbers       function    <function add_two_numbers at 0x7f625c20ccb0>\n",
      "ans_1                 int         2\n",
      "ans_2                 int         0\n",
      "args                  dict        n=2\n",
      "current_participant   str         \n",
      "full_name             str         David Russell Feinberg\n",
      "get_full_name         function    <function get_full_name at 0x7f625c1bd320>\n",
      "get_id                function    <function get_id at 0x7f625c14b290>\n",
      "item                  tuple       n=2\n",
      "letter_count          function    <function letter_count at 0x7f625c1b54d0>\n",
      "list1                 list        n=10\n",
      "list2                 list        n=10\n",
      "list_of_inputs        list        n=4\n",
      "multiply_lists        function    <function multiply_lists at 0x7f6260ff3ef0>\n",
      "number                int         99\n",
      "numbers               range       range(1, 100)\n",
      "products              list        n=10\n",
      "remainder             function    <function remainder at 0x7f625c14b050>\n",
      "reverse_digits        function    <function reverse_digits at 0x7f625c20c680>\n",
      "sqrt                  function    <function sqrt at 0x7f625c149050>\n",
      "square_root           function    <function square_root at 0x7f625ff0f9e0>\n",
      "word_count            function    <function word_count at 0x7f625c20cf80>\n"
     ]
    }
   ],
   "source": [
    "%whos"
   ]
  },
  {
   "cell_type": "markdown",
   "metadata": {
    "id": "_S2vk7VlSthf"
   },
   "source": [
    "In regular python you can do ```locals()``` and ```globals()```"
   ]
  },
  {
   "cell_type": "markdown",
   "metadata": {
    "id": "jhpE1gm0TeZ5"
   },
   "source": [
    "When you run locals() from inside a function it gives you the local variables inside that function."
   ]
  },
  {
   "cell_type": "code",
   "execution_count": null,
   "metadata": {
    "colab": {
     "base_uri": "https://localhost:8080/"
    },
    "id": "_CaajNGGSzFZ",
    "outputId": "b0c4eed0-01a6-42ca-9be0-bb1adc64e3c6"
   },
   "outputs": [
    {
     "name": "stdout",
     "output_type": "stream",
     "text": [
      "Please type your ID number:\n",
      "1234\n",
      "{'id_number': '1234'}\n"
     ]
    }
   ],
   "source": [
    "def get_id():\n",
    "    id_number = input(\"Please type your ID number:\\n\")\n",
    "    print(locals())\n",
    "    return id_number\n",
    "id = get_id()"
   ]
  },
  {
   "cell_type": "markdown",
   "metadata": {
    "id": "e4iq1HSWTslQ"
   },
   "source": [
    "Globals gives you all of the variables in the global scope.  That means all of the variables that are outside of functions (and classes).  It's a bit of a long list because it has all of our ipynb code in it too, so if you're using google colab or jupyter notebooks, then you are better off using their tools."
   ]
  },
  {
   "cell_type": "code",
   "execution_count": null,
   "metadata": {
    "colab": {
     "base_uri": "https://localhost:8080/"
    },
    "id": "zArIW7KfS15Q",
    "outputId": "976b2578-5ecf-4024-aba5-37de6d4ee533"
   },
   "outputs": [
    {
     "data": {
      "text/plain": [
       "{'__name__': '__main__',\n",
       " '__doc__': 'Automatically created module for IPython interactive environment',\n",
       " '__package__': None,\n",
       " '__loader__': None,\n",
       " '__spec__': None,\n",
       " '__builtin__': <module 'builtins' (built-in)>,\n",
       " '__builtins__': <module 'builtins' (built-in)>,\n",
       " '_ih': ['',\n",
       "  'def square_root(number):\\n    number **= 0.5\\n    return number\\n\\nsquare_root(81)',\n",
       "  'def square_root(number):\\n    number **= 0.5\\n    return number\\n\\nsquare_root(81)',\n",
       "  'square_root(256)',\n",
       "  'numbers = range(1,100)\\nfor number in numbers:\\n    print(square_root(number))',\n",
       "  'def letter_count(word): \\n  return len(word)\\n\\nletter_count(\"supercalifragilisticexpialidocious\")',\n",
       "  'def word_count(sentence):\\n    words = sentence.split()\\n    return len(words)\\n\\nword_count(\"When the sunlight strikes raindrops in the air, they act as a prism and form a rainbow.\")',\n",
       "  'def reverse_digits(digits):\\n    digit_str = str(digits)\\n    reversed_str = digit_str[::-1]\\n    reversed = int(reversed_str)\\n    return reversed\\n\\nreverse_digits(5446)',\n",
       "  'def add_two_numbers(num1, num2):\\n    # Check if the numbers are really numbers and not strings\\n    # If they are strings, convert them to floats\\n    if isinstance(num1, str):\\n        try:\\n            num1 = float(num1)   \\n        except ValueError:\\n            print(f\"The value for num1 in the add_two_numbers_function was not a valid number.\")   \\n    if isinstance(num2, str):\\n        try:\\n            num2 = float(num2)\\n        except ValueError:\\n            print(f\"The value  for num2 in the add_two_numbers_function was not a valid number.\")   \\n\\n    # Add the numbers  \\n    answer = num1 + num2  \\n    \\n    # Return the result\\n    return answer',\n",
       "  '# Execute our function again, on some other inputs\\nlist_of_inputs = [\\n    (-1, 7),\\n    (2, 2.5),\\n    (\"4\", \"5\"),\\n    (\\'a\\', 4),\\n]\\n\\nfor item in list_of_inputs: \\n    print(f\\'{item[0]} + {item[1]} = {add_two_numbers(item[0], item[1])}\\')  ',\n",
       "  'list_of_inputs = [\\n    (-1, 7),\\n    (2, 2.5),\\n    (\"4\", \"5\"),\\n    (4, \\'a\\'),\\n]\\n\\n\\nfor item in list_of_inputs: \\n    print(f\\'{item[0]} + {item[1]} = {add_two_numbers(*item)}\\')  ',\n",
       "  \"args = {\\n    'num1': 1,\\n    'num2': 2\\n}\\n\\nadd_two_numbers(**args)\",\n",
       "  'def add_lots_of_numbers(*args):\\n    total = 0\\n    for arg in args:\\n        total += arg\\n    return total\\n\\nprint(add_lots_of_numbers(1))\\nprint(add_lots_of_numbers(1, 2))\\nprint(add_lots_of_numbers(1, 2, 3, 4, 5, 6, 7, 8, 9, 10))',\n",
       "  \"def get_full_name(**kwargs):\\n    print(type(kwargs))\\n    print(kwargs)\\n    print(kwargs.keys())\\n    print(kwargs.values())\\n    full_name = ' '.join(kwargs.values())\\n    print(full_name)\\n    return full_name\",\n",
       "  \"full_name = get_full_name(first_name='David', last_name='Feinberg')\\nfull_name\",\n",
       "  \"def get_full_name(**kwargs):\\n    print(type(kwargs))\\n    print(kwargs)\\n    print(kwargs.keys())\\n    print(kwargs.values())\\n    full_name = ' '.join(kwargs.values())\\n    print(full_name)\\n    return full_name\",\n",
       "  \"full_name = get_full_name(first_name='David', last_name='Feinberg')\\nfull_name\",\n",
       "  \"full_name = get_full_name('David', 'Feinberg')\\nfull_name\",\n",
       "  \"full_name = get_full_name(first_name='David', middle_name='Russell', last_name='Feinberg')\\nfull_name\",\n",
       "  'from pprint import pprint\\n\\nvariable_from_outside_function = \\\\\\n  \"This variable was created outside the function\"\\n\\ndef check_function_namespace():\\n    variable_from_outside_function = \\\\\\n  \"This variable was NOT created outside the function\"\\n    students = \"awesome\"\\n    this_class = \"rocks\"\\n    variable_from_inside_function = \\\\\\n      \"This variable was created inside the function\"\\n    print(f\\'Locals:\\\\n{locals()}\\')\\n    print(f\\'{variable_from_outside_function=}\\')',\n",
       "  'def remainder(number, divider):\\n    remainder = number % divider\\n    return remainder',\n",
       "  'ans_1 = remainder(12, 5)\\nans_2 = remainder(2, 2)\\nprint(ans_1 + ans_2)',\n",
       "  'def get_id():\\n    id_number = input(\"Please type your ID number:\\\\n\")\\n    return id_number',\n",
       "  'current_participant = get_id()\\ncurrent_participant',\n",
       "  'def sqrt(number):\\n    square_root = number ** 0.5\\n    return square_root',\n",
       "  'sqrt(81)',\n",
       "  'def multiply_lists(list1, list2):\\n    products = []\\n    for item in zip(list1, list2):\\n        product = item[0] * item[1]\\n        products.append(product)\\n    return products',\n",
       "  'list1 = [1, 2, 3, 4, 5, 6, 7, 8, 9, 10]\\nlist2 = [2, 4, 6, 8, 10, 12, 14, 16, 18, 20]\\nproducts = multiply_lists(list1, list2)\\nproducts',\n",
       "  \"get_ipython().run_line_magic('whos', '')\",\n",
       "  'list_of_inputs',\n",
       "  'def get_id():\\n    id_number = input(\"Please type your ID number:\\\\n\")\\n    print(locals())\\n    return id_number\\nid = get_id()',\n",
       "  'globals()'],\n",
       " '_oh': {1: 9.0,\n",
       "  2: 9.0,\n",
       "  3: 16.0,\n",
       "  5: 34,\n",
       "  6: 17,\n",
       "  7: 6445,\n",
       "  11: 3,\n",
       "  14: 'David Feinberg',\n",
       "  16: 'David Feinberg',\n",
       "  18: 'David Russell Feinberg',\n",
       "  23: '',\n",
       "  25: 9.0,\n",
       "  27: [2, 8, 18, 32, 50, 72, 98, 128, 162, 200],\n",
       "  29: [(-1, 7), (2, 2.5), ('4', '5'), (4, 'a')]},\n",
       " '_dh': ['/content'],\n",
       " 'In': ['',\n",
       "  'def square_root(number):\\n    number **= 0.5\\n    return number\\n\\nsquare_root(81)',\n",
       "  'def square_root(number):\\n    number **= 0.5\\n    return number\\n\\nsquare_root(81)',\n",
       "  'square_root(256)',\n",
       "  'numbers = range(1,100)\\nfor number in numbers:\\n    print(square_root(number))',\n",
       "  'def letter_count(word): \\n  return len(word)\\n\\nletter_count(\"supercalifragilisticexpialidocious\")',\n",
       "  'def word_count(sentence):\\n    words = sentence.split()\\n    return len(words)\\n\\nword_count(\"When the sunlight strikes raindrops in the air, they act as a prism and form a rainbow.\")',\n",
       "  'def reverse_digits(digits):\\n    digit_str = str(digits)\\n    reversed_str = digit_str[::-1]\\n    reversed = int(reversed_str)\\n    return reversed\\n\\nreverse_digits(5446)',\n",
       "  'def add_two_numbers(num1, num2):\\n    # Check if the numbers are really numbers and not strings\\n    # If they are strings, convert them to floats\\n    if isinstance(num1, str):\\n        try:\\n            num1 = float(num1)   \\n        except ValueError:\\n            print(f\"The value for num1 in the add_two_numbers_function was not a valid number.\")   \\n    if isinstance(num2, str):\\n        try:\\n            num2 = float(num2)\\n        except ValueError:\\n            print(f\"The value  for num2 in the add_two_numbers_function was not a valid number.\")   \\n\\n    # Add the numbers  \\n    answer = num1 + num2  \\n    \\n    # Return the result\\n    return answer',\n",
       "  '# Execute our function again, on some other inputs\\nlist_of_inputs = [\\n    (-1, 7),\\n    (2, 2.5),\\n    (\"4\", \"5\"),\\n    (\\'a\\', 4),\\n]\\n\\nfor item in list_of_inputs: \\n    print(f\\'{item[0]} + {item[1]} = {add_two_numbers(item[0], item[1])}\\')  ',\n",
       "  'list_of_inputs = [\\n    (-1, 7),\\n    (2, 2.5),\\n    (\"4\", \"5\"),\\n    (4, \\'a\\'),\\n]\\n\\n\\nfor item in list_of_inputs: \\n    print(f\\'{item[0]} + {item[1]} = {add_two_numbers(*item)}\\')  ',\n",
       "  \"args = {\\n    'num1': 1,\\n    'num2': 2\\n}\\n\\nadd_two_numbers(**args)\",\n",
       "  'def add_lots_of_numbers(*args):\\n    total = 0\\n    for arg in args:\\n        total += arg\\n    return total\\n\\nprint(add_lots_of_numbers(1))\\nprint(add_lots_of_numbers(1, 2))\\nprint(add_lots_of_numbers(1, 2, 3, 4, 5, 6, 7, 8, 9, 10))',\n",
       "  \"def get_full_name(**kwargs):\\n    print(type(kwargs))\\n    print(kwargs)\\n    print(kwargs.keys())\\n    print(kwargs.values())\\n    full_name = ' '.join(kwargs.values())\\n    print(full_name)\\n    return full_name\",\n",
       "  \"full_name = get_full_name(first_name='David', last_name='Feinberg')\\nfull_name\",\n",
       "  \"def get_full_name(**kwargs):\\n    print(type(kwargs))\\n    print(kwargs)\\n    print(kwargs.keys())\\n    print(kwargs.values())\\n    full_name = ' '.join(kwargs.values())\\n    print(full_name)\\n    return full_name\",\n",
       "  \"full_name = get_full_name(first_name='David', last_name='Feinberg')\\nfull_name\",\n",
       "  \"full_name = get_full_name('David', 'Feinberg')\\nfull_name\",\n",
       "  \"full_name = get_full_name(first_name='David', middle_name='Russell', last_name='Feinberg')\\nfull_name\",\n",
       "  'from pprint import pprint\\n\\nvariable_from_outside_function = \\\\\\n  \"This variable was created outside the function\"\\n\\ndef check_function_namespace():\\n    variable_from_outside_function = \\\\\\n  \"This variable was NOT created outside the function\"\\n    students = \"awesome\"\\n    this_class = \"rocks\"\\n    variable_from_inside_function = \\\\\\n      \"This variable was created inside the function\"\\n    print(f\\'Locals:\\\\n{locals()}\\')\\n    print(f\\'{variable_from_outside_function=}\\')',\n",
       "  'def remainder(number, divider):\\n    remainder = number % divider\\n    return remainder',\n",
       "  'ans_1 = remainder(12, 5)\\nans_2 = remainder(2, 2)\\nprint(ans_1 + ans_2)',\n",
       "  'def get_id():\\n    id_number = input(\"Please type your ID number:\\\\n\")\\n    return id_number',\n",
       "  'current_participant = get_id()\\ncurrent_participant',\n",
       "  'def sqrt(number):\\n    square_root = number ** 0.5\\n    return square_root',\n",
       "  'sqrt(81)',\n",
       "  'def multiply_lists(list1, list2):\\n    products = []\\n    for item in zip(list1, list2):\\n        product = item[0] * item[1]\\n        products.append(product)\\n    return products',\n",
       "  'list1 = [1, 2, 3, 4, 5, 6, 7, 8, 9, 10]\\nlist2 = [2, 4, 6, 8, 10, 12, 14, 16, 18, 20]\\nproducts = multiply_lists(list1, list2)\\nproducts',\n",
       "  \"get_ipython().run_line_magic('whos', '')\",\n",
       "  'list_of_inputs',\n",
       "  'def get_id():\\n    id_number = input(\"Please type your ID number:\\\\n\")\\n    print(locals())\\n    return id_number\\nid = get_id()',\n",
       "  'globals()'],\n",
       " 'Out': {1: 9.0,\n",
       "  2: 9.0,\n",
       "  3: 16.0,\n",
       "  5: 34,\n",
       "  6: 17,\n",
       "  7: 6445,\n",
       "  11: 3,\n",
       "  14: 'David Feinberg',\n",
       "  16: 'David Feinberg',\n",
       "  18: 'David Russell Feinberg',\n",
       "  23: '',\n",
       "  25: 9.0,\n",
       "  27: [2, 8, 18, 32, 50, 72, 98, 128, 162, 200],\n",
       "  29: [(-1, 7), (2, 2.5), ('4', '5'), (4, 'a')]},\n",
       " 'get_ipython': <bound method InteractiveShell.get_ipython of <google.colab._shell.Shell object at 0x7f626ccbdd10>>,\n",
       " 'exit': <IPython.core.autocall.ZMQExitAutocall at 0x7f626ac7e1d0>,\n",
       " 'quit': <IPython.core.autocall.ZMQExitAutocall at 0x7f626ac7e1d0>,\n",
       " '_': [(-1, 7), (2, 2.5), ('4', '5'), (4, 'a')],\n",
       " '__': [2, 8, 18, 32, 50, 72, 98, 128, 162, 200],\n",
       " '___': 9.0,\n",
       " '_i': 'def get_id():\\n    id_number = input(\"Please type your ID number:\\\\n\")\\n    print(locals())\\n    return id_number\\nid = get_id()',\n",
       " '_ii': 'list_of_inputs',\n",
       " '_iii': '%whos',\n",
       " '_i1': 'def square_root(number):\\n    number **= 0.5\\n    return number\\n\\nsquare_root(81)',\n",
       " 'square_root': <function __main__.square_root(number)>,\n",
       " '_1': 9.0,\n",
       " '_i2': 'def square_root(number):\\n    number **= 0.5\\n    return number\\n\\nsquare_root(81)',\n",
       " '_2': 9.0,\n",
       " '_i3': 'square_root(256)',\n",
       " '_3': 16.0,\n",
       " '_i4': 'numbers = range(1,100)\\nfor number in numbers:\\n    print(square_root(number))',\n",
       " 'numbers': range(1, 100),\n",
       " 'number': 99,\n",
       " '_i5': 'def letter_count(word): \\n  return len(word)\\n\\nletter_count(\"supercalifragilisticexpialidocious\")',\n",
       " 'letter_count': <function __main__.letter_count(word)>,\n",
       " '_5': 34,\n",
       " '_i6': 'def word_count(sentence):\\n    words = sentence.split()\\n    return len(words)\\n\\nword_count(\"When the sunlight strikes raindrops in the air, they act as a prism and form a rainbow.\")',\n",
       " 'word_count': <function __main__.word_count(sentence)>,\n",
       " '_6': 17,\n",
       " '_i7': 'def reverse_digits(digits):\\n    digit_str = str(digits)\\n    reversed_str = digit_str[::-1]\\n    reversed = int(reversed_str)\\n    return reversed\\n\\nreverse_digits(5446)',\n",
       " 'reverse_digits': <function __main__.reverse_digits(digits)>,\n",
       " '_7': 6445,\n",
       " '_i8': 'def add_two_numbers(num1, num2):\\n    # Check if the numbers are really numbers and not strings\\n    # If they are strings, convert them to floats\\n    if isinstance(num1, str):\\n        try:\\n            num1 = float(num1)   \\n        except ValueError:\\n            print(f\"The value for num1 in the add_two_numbers_function was not a valid number.\")   \\n    if isinstance(num2, str):\\n        try:\\n            num2 = float(num2)\\n        except ValueError:\\n            print(f\"The value  for num2 in the add_two_numbers_function was not a valid number.\")   \\n\\n    # Add the numbers  \\n    answer = num1 + num2  \\n    \\n    # Return the result\\n    return answer',\n",
       " 'add_two_numbers': <function __main__.add_two_numbers(num1, num2)>,\n",
       " '_i9': '# Execute our function again, on some other inputs\\nlist_of_inputs = [\\n    (-1, 7),\\n    (2, 2.5),\\n    (\"4\", \"5\"),\\n    (\\'a\\', 4),\\n]\\n\\nfor item in list_of_inputs: \\n    print(f\\'{item[0]} + {item[1]} = {add_two_numbers(item[0], item[1])}\\')  ',\n",
       " 'list_of_inputs': [(-1, 7), (2, 2.5), ('4', '5'), (4, 'a')],\n",
       " 'item': (4, 'a'),\n",
       " '_i10': 'list_of_inputs = [\\n    (-1, 7),\\n    (2, 2.5),\\n    (\"4\", \"5\"),\\n    (4, \\'a\\'),\\n]\\n\\n\\nfor item in list_of_inputs: \\n    print(f\\'{item[0]} + {item[1]} = {add_two_numbers(*item)}\\')  ',\n",
       " '_i11': \"args = {\\n    'num1': 1,\\n    'num2': 2\\n}\\n\\nadd_two_numbers(**args)\",\n",
       " 'args': {'num1': 1, 'num2': 2},\n",
       " '_11': 3,\n",
       " '_i12': 'def add_lots_of_numbers(*args):\\n    total = 0\\n    for arg in args:\\n        total += arg\\n    return total\\n\\nprint(add_lots_of_numbers(1))\\nprint(add_lots_of_numbers(1, 2))\\nprint(add_lots_of_numbers(1, 2, 3, 4, 5, 6, 7, 8, 9, 10))',\n",
       " 'add_lots_of_numbers': <function __main__.add_lots_of_numbers(*args)>,\n",
       " '_i13': \"def get_full_name(**kwargs):\\n    print(type(kwargs))\\n    print(kwargs)\\n    print(kwargs.keys())\\n    print(kwargs.values())\\n    full_name = ' '.join(kwargs.values())\\n    print(full_name)\\n    return full_name\",\n",
       " 'get_full_name': <function __main__.get_full_name(**kwargs)>,\n",
       " '_i14': \"full_name = get_full_name(first_name='David', last_name='Feinberg')\\nfull_name\",\n",
       " 'full_name': 'David Russell Feinberg',\n",
       " '_14': 'David Feinberg',\n",
       " '_i15': \"def get_full_name(**kwargs):\\n    print(type(kwargs))\\n    print(kwargs)\\n    print(kwargs.keys())\\n    print(kwargs.values())\\n    full_name = ' '.join(kwargs.values())\\n    print(full_name)\\n    return full_name\",\n",
       " '_i16': \"full_name = get_full_name(first_name='David', last_name='Feinberg')\\nfull_name\",\n",
       " '_16': 'David Feinberg',\n",
       " '_i17': \"full_name = get_full_name('David', 'Feinberg')\\nfull_name\",\n",
       " '_i18': \"full_name = get_full_name(first_name='David', middle_name='Russell', last_name='Feinberg')\\nfull_name\",\n",
       " '_18': 'David Russell Feinberg',\n",
       " '_i19': 'from pprint import pprint\\n\\nvariable_from_outside_function = \\\\\\n  \"This variable was created outside the function\"\\n\\ndef check_function_namespace():\\n    variable_from_outside_function = \\\\\\n  \"This variable was NOT created outside the function\"\\n    students = \"awesome\"\\n    this_class = \"rocks\"\\n    variable_from_inside_function = \\\\\\n      \"This variable was created inside the function\"\\n    print(f\\'Locals:\\\\n{locals()}\\')\\n    print(f\\'{variable_from_outside_function=}\\')',\n",
       " '_i20': 'def remainder(number, divider):\\n    remainder = number % divider\\n    return remainder',\n",
       " 'remainder': <function __main__.remainder(number, divider)>,\n",
       " '_i21': 'ans_1 = remainder(12, 5)\\nans_2 = remainder(2, 2)\\nprint(ans_1 + ans_2)',\n",
       " 'ans_1': 2,\n",
       " 'ans_2': 0,\n",
       " '_i22': 'def get_id():\\n    id_number = input(\"Please type your ID number:\\\\n\")\\n    return id_number',\n",
       " 'get_id': <function __main__.get_id()>,\n",
       " '_i23': 'current_participant = get_id()\\ncurrent_participant',\n",
       " 'current_participant': '',\n",
       " '_23': '',\n",
       " '_i24': 'def sqrt(number):\\n    square_root = number ** 0.5\\n    return square_root',\n",
       " 'sqrt': <function __main__.sqrt(number)>,\n",
       " '_i25': 'sqrt(81)',\n",
       " '_25': 9.0,\n",
       " '_i26': 'def multiply_lists(list1, list2):\\n    products = []\\n    for item in zip(list1, list2):\\n        product = item[0] * item[1]\\n        products.append(product)\\n    return products',\n",
       " 'multiply_lists': <function __main__.multiply_lists(list1, list2)>,\n",
       " '_i27': 'list1 = [1, 2, 3, 4, 5, 6, 7, 8, 9, 10]\\nlist2 = [2, 4, 6, 8, 10, 12, 14, 16, 18, 20]\\nproducts = multiply_lists(list1, list2)\\nproducts',\n",
       " 'list1': [1, 2, 3, 4, 5, 6, 7, 8, 9, 10],\n",
       " 'list2': [2, 4, 6, 8, 10, 12, 14, 16, 18, 20],\n",
       " 'products': [2, 8, 18, 32, 50, 72, 98, 128, 162, 200],\n",
       " '_27': [2, 8, 18, 32, 50, 72, 98, 128, 162, 200],\n",
       " '_i28': '%whos',\n",
       " '_i29': 'list_of_inputs',\n",
       " '_29': [(-1, 7), (2, 2.5), ('4', '5'), (4, 'a')],\n",
       " '_i30': 'def get_id():\\n    id_number = input(\"Please type your ID number:\\\\n\")\\n    print(locals())\\n    return id_number\\nid = get_id()',\n",
       " 'id': '1234',\n",
       " '_i31': 'globals()'}"
      ]
     },
     "execution_count": 31,
     "metadata": {},
     "output_type": "execute_result"
    }
   ],
   "source": [
    "globals()"
   ]
  },
  {
   "cell_type": "markdown",
   "metadata": {
    "id": "BIltSTwScKIR"
   },
   "source": [
    "## Function Namespaces II"
   ]
  },
  {
   "cell_type": "markdown",
   "metadata": {
    "id": "V32WPqHwcKIS"
   },
   "source": [
    "- Functions have separate namespaces from the rest of the code.\n",
    "- Variables created inside of functions are called `local` variables. \n",
    "- That means that you can't access a `local` variable (one that was created inside a function) from\n",
    "    - the main program\n",
    "    - another function or class (we'll get to classes next class)\n",
    "    - use `locals()` to see which variables were definied and available inside the function.\n",
    "- Variables created in the main program can be accessed from inside a function because they are `global`.  \n",
    "    - use `globals()` to see which variables were definied and available everywhere in the program."
   ]
  },
  {
   "cell_type": "code",
   "execution_count": null,
   "metadata": {
    "id": "B1LTcCRMcKIS"
   },
   "outputs": [],
   "source": [
    "from pprint import pprint\n",
    "\n",
    "variable_from_outside_function = \"This variable was created outside the function\"\n",
    "\n",
    "def check_function_namespace():\n",
    "    #variable_from_outside_function = \"This variable was NOT created outside the function\"\n",
    "    students = \"awesome\"\n",
    "    this_class = \"rocks\"\n",
    "    variable_from_inside_function = \"This variable was created inside the function\"\n",
    "    #print(f'Locals:\\n{locals()}')\n",
    "    print(f'{variable_from_outside_function}')"
   ]
  },
  {
   "cell_type": "code",
   "execution_count": null,
   "metadata": {
    "colab": {
     "base_uri": "https://localhost:8080/"
    },
    "id": "Of-l9jaPcKIW",
    "outputId": "9c0f2460-1ca8-4e07-ff86-ca0fcdd17c78"
   },
   "outputs": [
    {
     "name": "stdout",
     "output_type": "stream",
     "text": [
      "This variable was created outside the function\n",
      "This variable was created outside the function\n"
     ]
    }
   ],
   "source": [
    "check_function_namespace()\n",
    "print(f'{variable_from_outside_function}')"
   ]
  },
  {
   "cell_type": "markdown",
   "metadata": {
    "id": "fQpfZv4RcKIa"
   },
   "source": [
    "Let's try to access `variable_from_inside_function`"
   ]
  },
  {
   "cell_type": "code",
   "execution_count": null,
   "metadata": {
    "id": "JF4Zd-K9cKIc"
   },
   "outputs": [],
   "source": [
    "variable_from_inside_function"
   ]
  },
  {
   "cell_type": "markdown",
   "metadata": {
    "id": "1Qy2U04pcKIf"
   },
   "source": [
    "The reason why it says `NameError: name 'variable_from_inside_function' is not defined` is that functions have separate namespaces. \n",
    "What that means is:\n",
    "- each function has a separate namespace from each other\n",
    "- the main program can't access the namespace from inside a function because those are `local` variables\n",
    "- `global` variables are created outside the function\n",
    "    - Don't use the `global` command.  \n",
    "    - You should always pass variables into functions, and return variables.\n",
    "    "
   ]
  },
  {
   "cell_type": "markdown",
   "metadata": {
    "id": "gmwmy2KQfaWP"
   },
   "source": [
    "Functions can be nested, and each function has access to variables in the cumulative level(s) above it:\n",
    "\n",
    "<img src=\"https://kickoff.tech/wp-content/uploads/2019/04/scope_chain.png\">"
   ]
  },
  {
   "cell_type": "markdown",
   "metadata": {
    "id": "zkXiozJicKIf"
   },
   "source": [
    "## Function - Execution Order of Namespaces"
   ]
  },
  {
   "cell_type": "code",
   "execution_count": null,
   "metadata": {
    "id": "WtsoB3xAcKIg"
   },
   "outputs": [],
   "source": [
    "def change_var(my_var):\n",
    "    my_var = 'This is the text assigned to variable my_var inside the function'\n",
    "    print('This is printed with a print statement inside the function: \\t', my_var)\n",
    "    return my_var"
   ]
  },
  {
   "cell_type": "code",
   "execution_count": null,
   "metadata": {
    "colab": {
     "base_uri": "https://localhost:8080/"
    },
    "id": "sl_ADxRbcKIk",
    "outputId": "f62cd7ce-3fca-4800-9d22-77fa5493d9cd"
   },
   "outputs": [
    {
     "name": "stdout",
     "output_type": "stream",
     "text": [
      "This is printed with a print statement outside the function: \t This is the text from outside the function\n",
      "This is printed with a print statement inside the function: \t This is the text assigned to variable my_var inside the function\n",
      "This is printed with a print statement outside the function: \t This is the text assigned to variable my_var inside the function\n"
     ]
    }
   ],
   "source": [
    "my_var = 'This is the text from outside the function'\n",
    "\n",
    "print('This is printed with a print statement outside the function: \\t', my_var)\n",
    "my_var = change_var(my_var)\n",
    "print('This is printed with a print statement outside the function: \\t', my_var)\n"
   ]
  },
  {
   "cell_type": "markdown",
   "metadata": {
    "id": "lDZGGSlFcKIn"
   },
   "source": [
    "`my_var` is initially set to `'I am a variable'` outside of the funtion.  That value `'I am a variable'` is the input to the function.  Then when we run the function `change_var`, we create a new variable `my_var` that exists in the namespace inside the function `change_var`.  It doesn't overwrite the value stored outside the function in the `global` variable `my_var`.  We just created a new variable that only exists inside that function. Python does keeps track of this behind the scenes for us. \n",
    "\n",
    "This illustrates the problem of reusing and recycling variable names.  It's super confusing.  You can avoid this confusion by making never reusing a variable name from outside a function inside of a function."
   ]
  },
  {
   "cell_type": "markdown",
   "metadata": {
    "id": "CYNtDoTvcKIo"
   },
   "source": [
    "## Question #2"
   ]
  },
  {
   "cell_type": "code",
   "execution_count": null,
   "metadata": {
    "id": "b2TKhpGPcKIp"
   },
   "outputs": [],
   "source": [
    "an_int = 2\n",
    "a_float = 11.5\n",
    "\n",
    "def print_numbers(an_int, a_float):\n",
    "    print(an_int, ',', a_float)\n",
    "    "
   ]
  },
  {
   "cell_type": "markdown",
   "metadata": {
    "id": "JF3lIzgQcKIs"
   },
   "source": [
    "Assuming the cell above has been executed, what will the code below print out?"
   ]
  },
  {
   "cell_type": "code",
   "execution_count": null,
   "metadata": {
    "id": "CvTg3HXmcKIs"
   },
   "outputs": [],
   "source": [
    "print_numbers(5, 12.2)"
   ]
  },
  {
   "cell_type": "markdown",
   "metadata": {
    "id": "s2iDMIFucKIv"
   },
   "source": [
    "A) 5 , 11.5  \n",
    "B) 2, 12.2  \n",
    "C) 2 , 11.5  \n",
    "D) 5 , 12.2  \n",
    "E) None"
   ]
  },
  {
   "cell_type": "markdown",
   "metadata": {
    "id": "c21l0Q3CcKIx"
   },
   "source": [
    "## Question #3"
   ]
  },
  {
   "cell_type": "code",
   "execution_count": null,
   "metadata": {
    "id": "QD6b8XJgcKIx"
   },
   "outputs": [],
   "source": [
    "def string_manipulator(string):\n",
    "    output = ''\n",
    "    for char in string:\n",
    "        if char == 'a' or char == 'e':\n",
    "            char = 'z' \n",
    "        output = output + char\n",
    "    return output"
   ]
  },
  {
   "cell_type": "markdown",
   "metadata": {
    "id": "GHtYlVmlcKI0"
   },
   "source": [
    "Given the function above, what will the following code print?"
   ]
  },
  {
   "cell_type": "code",
   "execution_count": null,
   "metadata": {
    "id": "Q-1jyp7pcKI1"
   },
   "outputs": [],
   "source": [
    "variable = 'abcde'\n",
    "manipulated_string = string_manipulator(variable)\n",
    "print(manipulated_string)"
   ]
  },
  {
   "cell_type": "markdown",
   "metadata": {
    "id": "Rw8Ufp8dcKI5"
   },
   "source": [
    "A) 'abcde'  \n",
    "B) 'zbcdz'  \n",
    "C) 'zzzzz'  \n",
    "D) 'azbcdez'  \n",
    "E) ''"
   ]
  },
  {
   "cell_type": "markdown",
   "metadata": {
    "id": "aYjZS5FOaR8j"
   },
   "source": [
    "#### Default Value Functions\n",
    "\n",
    "Specify a default value in a function by doing an assignment within the function definition."
   ]
  },
  {
   "cell_type": "code",
   "execution_count": null,
   "metadata": {
    "id": "T6WwoM2NaR8j"
   },
   "outputs": [],
   "source": [
    "# Create a function, that has a default values for a parameter\n",
    "def exponentiate(number, exponent=2):\n",
    "    return number**exponent"
   ]
  },
  {
   "cell_type": "code",
   "execution_count": null,
   "metadata": {
    "id": "C39W6sIcaR8n"
   },
   "outputs": [],
   "source": [
    "# Use the function, using default value\n",
    "exponentiate(2)"
   ]
  },
  {
   "cell_type": "code",
   "execution_count": null,
   "metadata": {
    "id": "rmWWEyKgaR8r"
   },
   "outputs": [],
   "source": [
    "# Call the function, over-riding default value with something else\n",
    "exponentiate(2, 3)"
   ]
  },
  {
   "cell_type": "markdown",
   "metadata": {
    "id": "VsUybvuGaR8v"
   },
   "source": [
    "## Positional vs. Keyword Arguments"
   ]
  },
  {
   "cell_type": "markdown",
   "metadata": {
    "id": "BENtQefHaR8w"
   },
   "source": [
    "### Arguments to a function can be indicated by either position or keyword.\n"
   ]
  },
  {
   "cell_type": "markdown",
   "metadata": {
    "id": "xOi3x6F3azGT"
   },
   "source": [
    "Positional arguments use the position to infer which argument each value relates to\n"
   ]
  },
  {
   "cell_type": "code",
   "execution_count": null,
   "metadata": {
    "id": "f_U1KIUqaR8w"
   },
   "outputs": [],
   "source": [
    "exponentiate(2, 2)"
   ]
  },
  {
   "cell_type": "markdown",
   "metadata": {
    "id": "1lgJowCJa2Tk"
   },
   "source": [
    "Keyword arguments are explicitly named as to which argument each value relates to"
   ]
  },
  {
   "cell_type": "code",
   "execution_count": null,
   "metadata": {
    "id": "FriE3HysaR8z"
   },
   "outputs": [],
   "source": [
    "exponentiate(number=2, exponent=2)"
   ]
  },
  {
   "cell_type": "markdown",
   "metadata": {
    "id": "p06bx31ka5_M"
   },
   "source": [
    "Once you have a keyword argument, you can't have other positional arguments afterwards.  Positional arguments must precede keyword arguments"
   ]
  },
  {
   "cell_type": "code",
   "execution_count": null,
   "metadata": {
    "id": "P2GmPh47bUjK"
   },
   "outputs": [],
   "source": [
    "exponentiate(2, exponent=2)"
   ]
  },
  {
   "cell_type": "code",
   "execution_count": null,
   "metadata": {
    "id": "HedRthQTaR82"
   },
   "outputs": [],
   "source": [
    "exponentiate(number=2, 2)"
   ]
  },
  {
   "cell_type": "markdown",
   "metadata": {
    "id": "YUQfskgsSwok"
   },
   "source": [
    "# Recursion\n",
    "\n",
    "When we call the function from inside itself"
   ]
  },
  {
   "cell_type": "markdown",
   "metadata": {},
   "source": [
    "### Fibonacci sequence\n",
    "\n",
    "0, 1, 1, 2, 3, 5, 8, 13, 21, 34\n",
    "\n",
    "\n",
    "The next number is found by adding up the two previous numbers:\n",
    "\n",
    "1 = 0 + 1  \n",
    "\n",
    "2 = 1 + 1  \n",
    "\n",
    "3 = 2 + 1  \n",
    "\n",
    "5 = 3 + 2\n",
    "\n",
    "etc...\n",
    "\n",
    "\n",
    "\n",
    "<img src='../img/fibonacci-spiral.svg'>"
   ]
  },
  {
   "cell_type": "markdown",
   "metadata": {},
   "source": [
    "### To program this without recursion is cumbersome"
   ]
  },
  {
   "cell_type": "code",
   "execution_count": 20,
   "metadata": {},
   "outputs": [
    {
     "name": "stdout",
     "output_type": "stream",
     "text": [
      "Fibonacci sequence:\n",
      "1\n",
      "2\n",
      "3\n",
      "5\n",
      "8\n",
      "13\n",
      "21\n",
      "34\n",
      "55\n",
      "89\n",
      "144\n",
      "233\n",
      "377\n",
      "610\n",
      "987\n",
      "1597\n",
      "2584\n",
      "4181\n",
      "6765\n",
      "10946\n",
      "17711\n",
      "28657\n",
      "46368\n",
      "75025\n",
      "121393\n",
      "196418\n",
      "317811\n",
      "514229\n"
     ]
    }
   ],
   "source": [
    "a = 0  # starting value for a\n",
    "b = 1  # starting value for b\n",
    "\n",
    "ns = range(2,10)\n",
    "\n",
    "print(\"Fibonacci sequence:\")\n",
    "\n",
    "for n in ns:\n",
    "    while(n-2):  # stop when we get to 0\n",
    "        c=a+b    # add the two prior numbers together\n",
    "        a=b      # move number 1 to number 2\n",
    "        b=c      # move number 2 to number 3\n",
    "        print(c,end=\"\\n\")\n",
    "        n=n-1    # count down to 0"
   ]
  },
  {
   "cell_type": "markdown",
   "metadata": {},
   "source": [
    "### By doing it recursively we create an automated solution that doesn't require us to increment the numbers, but rather they self-increment by following the chain.\n",
    "\n",
    "<img src=\"../img/Screen_Shot_2021-06-04_at_3.24.02_PM.49155bd58b7d.png\">\n",
    "\n",
    "https://realpython.com/fibonacci-sequence-python/"
   ]
  },
  {
   "cell_type": "code",
   "execution_count": 22,
   "metadata": {},
   "outputs": [
    {
     "name": "stdout",
     "output_type": "stream",
     "text": [
      "Fibonacci sequence:\n",
      "0\n",
      "\n",
      "1\n",
      "\n",
      "1\n",
      "\n",
      "2\n",
      "\n",
      "3\n",
      "\n",
      "5\n",
      "\n",
      "8\n",
      "\n",
      "13\n",
      "\n",
      "21\n",
      "\n",
      "34\n",
      "\n",
      "55\n",
      "\n",
      "89\n",
      "\n",
      "144\n",
      "\n",
      "233\n",
      "\n",
      "377\n"
     ]
    },
    {
     "ename": "KeyboardInterrupt",
     "evalue": "Interrupted by user",
     "output_type": "error",
     "traceback": [
      "\u001b[0;31m---------------------------------------------------------------------------\u001b[0m",
      "\u001b[0;31mKeyboardInterrupt\u001b[0m                         Traceback (most recent call last)",
      "Cell \u001b[0;32mIn[22], line 17\u001b[0m\n\u001b[1;32m     15\u001b[0m \u001b[38;5;28;01mfor\u001b[39;00m i \u001b[38;5;129;01min\u001b[39;00m \u001b[38;5;28mrange\u001b[39m(nterms):\n\u001b[1;32m     16\u001b[0m     \u001b[38;5;28mprint\u001b[39m(fibonacci(i))\n\u001b[0;32m---> 17\u001b[0m     _ \u001b[38;5;241m=\u001b[39m \u001b[38;5;28;43minput\u001b[39;49m\u001b[43m(\u001b[49m\u001b[43m)\u001b[49m\n",
      "File \u001b[0;32m~/anaconda3/envs/2a03/lib/python3.10/site-packages/ipykernel/kernelbase.py:1175\u001b[0m, in \u001b[0;36mKernel.raw_input\u001b[0;34m(self, prompt)\u001b[0m\n\u001b[1;32m   1171\u001b[0m \u001b[38;5;28;01mif\u001b[39;00m \u001b[38;5;129;01mnot\u001b[39;00m \u001b[38;5;28mself\u001b[39m\u001b[38;5;241m.\u001b[39m_allow_stdin:\n\u001b[1;32m   1172\u001b[0m     \u001b[38;5;28;01mraise\u001b[39;00m StdinNotImplementedError(\n\u001b[1;32m   1173\u001b[0m         \u001b[38;5;124m\"\u001b[39m\u001b[38;5;124mraw_input was called, but this frontend does not support input requests.\u001b[39m\u001b[38;5;124m\"\u001b[39m\n\u001b[1;32m   1174\u001b[0m     )\n\u001b[0;32m-> 1175\u001b[0m \u001b[38;5;28;01mreturn\u001b[39;00m \u001b[38;5;28;43mself\u001b[39;49m\u001b[38;5;241;43m.\u001b[39;49m\u001b[43m_input_request\u001b[49m\u001b[43m(\u001b[49m\n\u001b[1;32m   1176\u001b[0m \u001b[43m    \u001b[49m\u001b[38;5;28;43mstr\u001b[39;49m\u001b[43m(\u001b[49m\u001b[43mprompt\u001b[49m\u001b[43m)\u001b[49m\u001b[43m,\u001b[49m\n\u001b[1;32m   1177\u001b[0m \u001b[43m    \u001b[49m\u001b[38;5;28;43mself\u001b[39;49m\u001b[38;5;241;43m.\u001b[39;49m\u001b[43m_parent_ident\u001b[49m\u001b[43m[\u001b[49m\u001b[38;5;124;43m\"\u001b[39;49m\u001b[38;5;124;43mshell\u001b[39;49m\u001b[38;5;124;43m\"\u001b[39;49m\u001b[43m]\u001b[49m\u001b[43m,\u001b[49m\n\u001b[1;32m   1178\u001b[0m \u001b[43m    \u001b[49m\u001b[38;5;28;43mself\u001b[39;49m\u001b[38;5;241;43m.\u001b[39;49m\u001b[43mget_parent\u001b[49m\u001b[43m(\u001b[49m\u001b[38;5;124;43m\"\u001b[39;49m\u001b[38;5;124;43mshell\u001b[39;49m\u001b[38;5;124;43m\"\u001b[39;49m\u001b[43m)\u001b[49m\u001b[43m,\u001b[49m\n\u001b[1;32m   1179\u001b[0m \u001b[43m    \u001b[49m\u001b[43mpassword\u001b[49m\u001b[38;5;241;43m=\u001b[39;49m\u001b[38;5;28;43;01mFalse\u001b[39;49;00m\u001b[43m,\u001b[49m\n\u001b[1;32m   1180\u001b[0m \u001b[43m\u001b[49m\u001b[43m)\u001b[49m\n",
      "File \u001b[0;32m~/anaconda3/envs/2a03/lib/python3.10/site-packages/ipykernel/kernelbase.py:1217\u001b[0m, in \u001b[0;36mKernel._input_request\u001b[0;34m(self, prompt, ident, parent, password)\u001b[0m\n\u001b[1;32m   1214\u001b[0m             \u001b[38;5;28;01mbreak\u001b[39;00m\n\u001b[1;32m   1215\u001b[0m \u001b[38;5;28;01mexcept\u001b[39;00m \u001b[38;5;167;01mKeyboardInterrupt\u001b[39;00m:\n\u001b[1;32m   1216\u001b[0m     \u001b[38;5;66;03m# re-raise KeyboardInterrupt, to truncate traceback\u001b[39;00m\n\u001b[0;32m-> 1217\u001b[0m     \u001b[38;5;28;01mraise\u001b[39;00m \u001b[38;5;167;01mKeyboardInterrupt\u001b[39;00m(\u001b[38;5;124m\"\u001b[39m\u001b[38;5;124mInterrupted by user\u001b[39m\u001b[38;5;124m\"\u001b[39m) \u001b[38;5;28;01mfrom\u001b[39;00m \u001b[38;5;28mNone\u001b[39m\n\u001b[1;32m   1218\u001b[0m \u001b[38;5;28;01mexcept\u001b[39;00m \u001b[38;5;167;01mException\u001b[39;00m:\n\u001b[1;32m   1219\u001b[0m     \u001b[38;5;28mself\u001b[39m\u001b[38;5;241m.\u001b[39mlog\u001b[38;5;241m.\u001b[39mwarning(\u001b[38;5;124m\"\u001b[39m\u001b[38;5;124mInvalid Message:\u001b[39m\u001b[38;5;124m\"\u001b[39m, exc_info\u001b[38;5;241m=\u001b[39m\u001b[38;5;28;01mTrue\u001b[39;00m)\n",
      "\u001b[0;31mKeyboardInterrupt\u001b[0m: Interrupted by user"
     ]
    }
   ],
   "source": [
    "def fibonacci(n):\n",
    "   if n <= 1:  # When n==1 or n==0, return 1 and 0 since the formula doesn't work then\n",
    "       return n\n",
    "   else:\n",
    "       return(fibonacci(n-1) + fibonacci(n-2))  # otherwise add n-1 + n-2 and follow that down the chain,\n",
    "                                                # adding up all the numbers\n",
    "\n",
    "nterms = 20\n",
    "\n",
    "# check if the number of terms is valid\n",
    "if nterms <= 0:\n",
    "   print(\"Plese enter a positive integer\")\n",
    "else:\n",
    "   print(\"Fibonacci sequence:\")\n",
    "   for i in range(nterms):\n",
    "       print(fibonacci(i))\n",
    "       _ = input()"
   ]
  },
  {
   "cell_type": "code",
   "execution_count": null,
   "metadata": {},
   "outputs": [],
   "source": []
  }
 ],
 "metadata": {
  "colab": {
   "provenance": []
  },
  "kernelspec": {
   "display_name": "Python 3 (ipykernel)",
   "language": "python",
   "name": "python3"
  },
  "language_info": {
   "codemirror_mode": {
    "name": "ipython",
    "version": 3
   },
   "file_extension": ".py",
   "mimetype": "text/x-python",
   "name": "python",
   "nbconvert_exporter": "python",
   "pygments_lexer": "ipython3",
   "version": "3.10.8"
  },
  "toc": {
   "base_numbering": 1,
   "nav_menu": {},
   "number_sections": false,
   "sideBar": false,
   "skip_h1_title": false,
   "title_cell": "Table of Contents",
   "title_sidebar": "Contents",
   "toc_cell": false,
   "toc_position": {},
   "toc_section_display": false,
   "toc_window_display": false
  }
 },
 "nbformat": 4,
 "nbformat_minor": 1
}
