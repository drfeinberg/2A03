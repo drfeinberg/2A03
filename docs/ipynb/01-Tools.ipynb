{
 "cells": [
  {
   "cell_type": "markdown",
   "metadata": {
    "colab_type": "text",
    "id": "EeQXVEId1-mO"
   },
   "source": [
    "<img src=\"https://drive.google.com/uc?export=view&id=1OCnSNpH9Xzs3k9KUuCOjTkLswI6N_3jZ\" width=25%>\n"
   ]
  },
  {
   "cell_type": "markdown",
   "metadata": {
    "colab_type": "text",
    "id": "buOf2jmvxrGF"
   },
   "source": [
    "# Tools"
   ]
  },
  {
   "cell_type": "markdown",
   "metadata": {
    "colab_type": "text",
    "id": "3Tjo8PnCxrGH"
   },
   "source": [
    "This notebook will guide through the tools you will need for class materials and assignments, and how to get them. "
   ]
  },
  {
   "cell_type": "markdown",
   "metadata": {
    "colab_type": "text",
    "id": "44nuDSICxrGJ"
   },
   "source": [
    "## Prerequisites\n",
    "\n",
    "This course and associated materials do not presume any prior knowledge of Python, or programming in general. \n",
    "\n",
    "To work with the course materials, you will need make sure the tools described here are installed on the computer you will be using. \n",
    "\n",
    "None of the materials are computationally heavy. "
   ]
  },
  {
   "cell_type": "markdown",
   "metadata": {
    "colab_type": "text",
    "id": "2r8x4a6xxrGM"
   },
   "source": [
    "## What hardware and software you need?\n",
    "\n",
    "### Hardware\n",
    "- You need access to a computer, smart phone, or tablet for this course.\n",
    "    - You do not need to own a computer, but it is highly recommended\n",
    "        - The more you code, the better you will get\n",
    "        - There is no substitute for practice\n",
    "    - You can get away with a tablet or phone if you don't have a computer.  We're going to run our code in the cloud\n",
    "\n",
    "\n",
    "### Software\n",
    "- A web browser\n",
    "- A google account\n",
    "\n"
   ]
  },
  {
   "cell_type": "markdown",
   "metadata": {
    "colab_type": "text",
    "id": "0xNareqh0epF"
   },
   "source": [
    "<a href=\"https://colab.research.google.com/\">\n",
    "  <img alt=\"Google Colab Logo\" src=\"https://miro.medium.com/max/3240/1*ddtqWGkJz1TUCg1WM9qKeQ.jpeg\"\n",
    "    width=150\" height=\"70\">\n",
    "    </a>\n",
    "\n",
    "We're going to use Google Colab to run our code.  \n",
    "That means you don't have to install anything for now. Everything is run in the cloud. \n",
    "Later in the course might learn how to code on our own computers."
   ]
  },
  {
   "cell_type": "markdown",
   "metadata": {
    "colab_type": "text",
    "id": "XYLbM6jPxrGQ"
   },
   "source": [
    "## Python\n",
    "\n",
    "- Versions: there are different versions of Python.\n",
    "    - We will be using Python 3.x\n",
    "    - We will not by using Python 2.7\n",
    "        - A lot of support is for Python 2.7 because it's older has been out for a long time\n",
    "        - That's ok it's easy to translate\n",
    "            - I will show you how later on\n",
    "\n",
    "\n",
    "- Your computer might have Python on it already\n",
    "    - Mac and Linux both come with Python pre-installed\n",
    "    - You might also have it on your Windows computer\n",
    "    - You can install as many different versions of Python on your computer as you want\n",
    "    - This can make it confusing to know which version you are using\n",
    "        - That matters a lot when you have lots of different libraries installed\n",
    "\n",
    "\n",
    "- To make it easier to do this online, we're going to use Google Colab.  \n",
    "  - https://colab.research.google.com\n",
    "  - That way, we can get around any issues with installing software, etc.  I'll try to show you some offline stuff later on in the course.  \n",
    "\n",
    "\n",
    "- Packages: Python includes a \"base set\" of code (the standard library), and an extensive ecosystem of third party packages\n",
    "    - When we need other packages, we will use the command <code>!pip</code> to install them\n",
    "    - A package is like an app that you can add on to Python\n",
    "    - pip is like an app storefor Python\n",
    "        - Except.. \n",
    "            - everything is free\n",
    "            - you use the command line (you type in the box instead of click on the icons)\n",
    "\n",
    "        "
   ]
  },
  {
   "cell_type": "markdown",
   "metadata": {
    "colab_type": "text",
    "id": "8EFMKgrG1pOt"
   },
   "source": [
    "# Here are some of the Google Colab basics.\n",
    "\n",
    "## We'll have a quick look, but please have a good read over these on your own time.\n",
    "\n",
    "https://colab.research.google.com/notebooks/welcome.ipynb\n",
    "\n",
    "https://colab.research.google.com/notebooks/basic_features_overview.ipynb\n",
    "\n",
    "https://colab.research.google.com/notebooks/markdown_guide.ipynb\n",
    "\n"
   ]
  },
  {
   "cell_type": "markdown",
   "metadata": {},
   "source": [
    "# Need help getting going?\n",
    "\n",
    "Try https://pythontutor.com/\n",
    "\n"
   ]
  }
 ],
 "metadata": {
  "celltoolbar": "Slideshow",
  "colab": {
   "collapsed_sections": [],
   "name": "01-Tools.ipynb",
   "provenance": []
  },
  "kernelspec": {
   "display_name": "Python 3 (ipykernel)",
   "language": "python",
   "name": "python3"
  },
  "language_info": {
   "codemirror_mode": {
    "name": "ipython",
    "version": 3
   },
   "file_extension": ".py",
   "mimetype": "text/x-python",
   "name": "python",
   "nbconvert_exporter": "python",
   "pygments_lexer": "ipython3",
   "version": "3.10.8"
  },
  "toc": {
   "base_numbering": 1,
   "nav_menu": {},
   "number_sections": false,
   "sideBar": false,
   "skip_h1_title": false,
   "title_cell": "Table of Contents",
   "title_sidebar": "Contents",
   "toc_cell": false,
   "toc_position": {},
   "toc_section_display": false,
   "toc_window_display": false
  }
 },
 "nbformat": 4,
 "nbformat_minor": 1
}
