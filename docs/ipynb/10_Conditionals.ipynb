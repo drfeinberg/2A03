{
 "cells": [
  {
   "cell_type": "markdown",
   "metadata": {
    "id": "l1k1mEkB-nbS"
   },
   "source": [
    "# Conditionals"
   ]
  },
  {
   "cell_type": "markdown",
   "metadata": {
    "id": "M9m5ETjp-nbU"
   },
   "source": [
    "### Recap: Booleans\n",
    "\n",
    "Booleans are a data type that can take values of `True` or `False`. "
   ]
  },
  {
   "cell_type": "markdown",
   "metadata": {
    "id": "QtHTm9gO-nbW"
   },
   "source": [
    "## if"
   ]
  },
  {
   "cell_type": "markdown",
   "metadata": {
    "id": "MlZEO-Z7-nbY"
   },
   "source": [
    "Conditionals are statements that check for a condition, using the `if` statement, and then only execute a set of code if the condition evaluates as `True`.\n"
   ]
  },
  {
   "cell_type": "code",
   "execution_count": 1,
   "metadata": {
    "colab": {
     "base_uri": "https://localhost:8080/"
    },
    "executionInfo": {
     "elapsed": 6,
     "status": "ok",
     "timestamp": 1668012286756,
     "user": {
      "displayName": "David Feinberg",
      "userId": "10503074216982279827"
     },
     "user_tz": 300
    },
    "id": "JQPMO8rK-nba",
    "outputId": "79863cf8-9c1a-4cb8-a813-162fad4beac7"
   },
   "outputs": [
    {
     "name": "stdout",
     "output_type": "stream",
     "text": [
      "This code executes if the text 'True' is stored in the  string 'condition'.\n"
     ]
    }
   ],
   "source": [
    "condition = 'True'\n",
    "if condition == 'True':\n",
    "    print(\"This code executes if the text 'True' is stored in the  string 'condition'.\")"
   ]
  },
  {
   "cell_type": "markdown",
   "metadata": {},
   "source": [
    "This is no good.  We're evaluating a string.  \"True\" and \"False\" both get evaluated as True using Boolean. "
   ]
  },
  {
   "cell_type": "code",
   "execution_count": 20,
   "metadata": {},
   "outputs": [
    {
     "name": "stdout",
     "output_type": "stream",
     "text": [
      "This code executes if the text 'False' is stored in the  string 'condition'.\n"
     ]
    }
   ],
   "source": [
    "condition = 'False'\n",
    "if condition == 'False':\n",
    "    print(\"This code executes if the text 'False' is stored in the  string 'condition'.\")"
   ]
  },
  {
   "cell_type": "markdown",
   "metadata": {},
   "source": [
    "Only empty strings are false."
   ]
  },
  {
   "cell_type": "code",
   "execution_count": 21,
   "metadata": {},
   "outputs": [
    {
     "data": {
      "text/plain": [
       "(True, True, False)"
      ]
     },
     "execution_count": 21,
     "metadata": {},
     "output_type": "execute_result"
    }
   ],
   "source": [
    "bool(\"True\"), bool(\"False\"), bool(\"\")"
   ]
  },
  {
   "cell_type": "markdown",
   "metadata": {},
   "source": [
    "You have to use booleans.  Drop the quotes."
   ]
  },
  {
   "cell_type": "code",
   "execution_count": 22,
   "metadata": {},
   "outputs": [
    {
     "data": {
      "text/plain": [
       "(True, False)"
      ]
     },
     "execution_count": 22,
     "metadata": {},
     "output_type": "execute_result"
    }
   ],
   "source": [
    "bool(True), bool(False)"
   ]
  },
  {
   "cell_type": "markdown",
   "metadata": {
    "id": "j1Wd7jO2-nbl"
   },
   "source": [
    "<div class=\"alert alert-warning\">\n",
    "    The above code works, but is not the Pythonic way. If you use the aforementioned code in class, we will deduct marks.\n",
    "</div>\n",
    "    \n",
    "\n",
    "The code above is similar to asking `if condition == 'happy':`, or `if sky == 'blue':`.  It's just checking if the text matches.  To do boolean evaluations, there is a better way.  See the next slide.\n",
    "    \n",
    "\n",
    "    "
   ]
  },
  {
   "cell_type": "code",
   "execution_count": 2,
   "metadata": {
    "colab": {
     "base_uri": "https://localhost:8080/"
    },
    "executionInfo": {
     "elapsed": 154,
     "status": "ok",
     "timestamp": 1668012393509,
     "user": {
      "displayName": "David Feinberg",
      "userId": "10503074216982279827"
     },
     "user_tz": 300
    },
    "id": "pOmGLgID-nbm",
    "outputId": "7844d96f-a452-40b5-cffe-eaeba9103f0b"
   },
   "outputs": [
    {
     "name": "stdout",
     "output_type": "stream",
     "text": [
      "This code executes if the condition evaluates as True.\n"
     ]
    }
   ],
   "source": [
    "condition = True\n",
    "\n",
    "if condition == True:\n",
    "    print('This code executes if the condition evaluates as True.')"
   ]
  },
  {
   "cell_type": "markdown",
   "metadata": {
    "id": "X8UhrkZi-nbt"
   },
   "source": [
    "The code above is repetative, because Python evaluates something as True without asking if it is equivalent to True.  See below.\n",
    "    "
   ]
  },
  {
   "cell_type": "markdown",
   "metadata": {
    "id": "yXzmz8-i-nbu"
   },
   "source": [
    "<div class=\"alert alert-success\">\n",
    "The Pythonic way is to just type <code>if condition</code> or <code>if not condition</code>.\n",
    "</div>"
   ]
  },
  {
   "cell_type": "code",
   "execution_count": 3,
   "metadata": {
    "colab": {
     "base_uri": "https://localhost:8080/"
    },
    "executionInfo": {
     "elapsed": 5,
     "status": "ok",
     "timestamp": 1668012444523,
     "user": {
      "displayName": "David Feinberg",
      "userId": "10503074216982279827"
     },
     "user_tz": 300
    },
    "id": "4yRE_fau-nbv",
    "outputId": "e3db50c6-5817-473a-8ee6-bde6a1fcd449"
   },
   "outputs": [
    {
     "name": "stdout",
     "output_type": "stream",
     "text": [
      "This code executes if the condition evaluates as True.\n"
     ]
    }
   ],
   "source": [
    "condition = True\n",
    "\n",
    "if condition:\n",
    "    print('This code executes if the condition evaluates as True.')"
   ]
  },
  {
   "cell_type": "markdown",
   "metadata": {
    "id": "ZKMKNTEv-nb0"
   },
   "source": [
    "We can test if condition is false by checking `if not condition`."
   ]
  },
  {
   "cell_type": "code",
   "execution_count": 4,
   "metadata": {
    "colab": {
     "base_uri": "https://localhost:8080/"
    },
    "executionInfo": {
     "elapsed": 188,
     "status": "ok",
     "timestamp": 1668012500819,
     "user": {
      "displayName": "David Feinberg",
      "userId": "10503074216982279827"
     },
     "user_tz": 300
    },
    "id": "4WVn-ER6-nb2",
    "outputId": "f3d28c6a-821a-4849-cc3e-2a4a8f954b6c"
   },
   "outputs": [
    {
     "name": "stdout",
     "output_type": "stream",
     "text": [
      "This code executes if the condition evaluates as False.\n"
     ]
    }
   ],
   "source": [
    "condition = False\n",
    "if not condition:\n",
    "    print('This code executes if the condition evaluates as False.')"
   ]
  },
  {
   "cell_type": "markdown",
   "metadata": {
    "id": "A4Usqw6H-nb7"
   },
   "source": [
    "### What happens when we use a string or number instead of a boolean?"
   ]
  },
  {
   "cell_type": "code",
   "execution_count": 5,
   "metadata": {
    "colab": {
     "base_uri": "https://localhost:8080/"
    },
    "executionInfo": {
     "elapsed": 173,
     "status": "ok",
     "timestamp": 1668012515031,
     "user": {
      "displayName": "David Feinberg",
      "userId": "10503074216982279827"
     },
     "user_tz": 300
    },
    "id": "rEK-QQKu-nb8",
    "outputId": "0307d0b1-2258-4e0a-a0bd-e3f03ef474b2"
   },
   "outputs": [
    {
     "name": "stdout",
     "output_type": "stream",
     "text": [
      "Condition is True even though it's Yellow.\n",
      "This is because Python evaluates something as True\n",
      "when there is a value stored and False when the variable is 0 or empty (i.e. '')\n"
     ]
    }
   ],
   "source": [
    "condition = 'Yellow'\n",
    "if condition:\n",
    "    print('Condition is True even though it\\'s Yellow.\\n'\n",
    "          'This is because Python evaluates something as True\\n'\n",
    "          'when there is a value stored and False when the variable is 0 or empty (i.e. \\'\\')')"
   ]
  },
  {
   "cell_type": "code",
   "execution_count": 6,
   "metadata": {},
   "outputs": [
    {
     "data": {
      "text/plain": [
       "True"
      ]
     },
     "execution_count": 6,
     "metadata": {},
     "output_type": "execute_result"
    }
   ],
   "source": [
    "bool(condition)"
   ]
  },
  {
   "cell_type": "code",
   "execution_count": 16,
   "metadata": {},
   "outputs": [
    {
     "data": {
      "text/plain": [
       "False"
      ]
     },
     "execution_count": 16,
     "metadata": {},
     "output_type": "execute_result"
    }
   ],
   "source": [
    "bool('')"
   ]
  },
  {
   "cell_type": "code",
   "execution_count": 7,
   "metadata": {
    "colab": {
     "base_uri": "https://localhost:8080/"
    },
    "executionInfo": {
     "elapsed": 216,
     "status": "ok",
     "timestamp": 1668012572906,
     "user": {
      "displayName": "David Feinberg",
      "userId": "10503074216982279827"
     },
     "user_tz": 300
    },
    "id": "YRgUczuY-ncB",
    "outputId": "21759815-00c5-4da3-850a-fbc1385b32cf"
   },
   "outputs": [
    {
     "name": "stdout",
     "output_type": "stream",
     "text": [
      "This code executes if the condition evaluates as True.\n"
     ]
    }
   ],
   "source": [
    "condition = 6.5458\n",
    "\n",
    "if condition:\n",
    "    print('This code executes if the condition evaluates as True.')"
   ]
  },
  {
   "cell_type": "markdown",
   "metadata": {
    "id": "dZp3hYme-ncF"
   },
   "source": [
    "It's not that the value 6.5458 represents the underlying truth of the universe or something.  It just means that there is a non-zero or non-null value stored in the variable."
   ]
  },
  {
   "cell_type": "code",
   "execution_count": 24,
   "metadata": {},
   "outputs": [],
   "source": [
    "condition = 0\n",
    "\n",
    "if condition:\n",
    "    print('This code executes if the condition evaluates as True.')"
   ]
  },
  {
   "cell_type": "markdown",
   "metadata": {},
   "source": [
    "We can ask if it's not true"
   ]
  },
  {
   "cell_type": "code",
   "execution_count": 26,
   "metadata": {
    "colab": {
     "base_uri": "https://localhost:8080/"
    },
    "executionInfo": {
     "elapsed": 4,
     "status": "ok",
     "timestamp": 1668012600610,
     "user": {
      "displayName": "David Feinberg",
      "userId": "10503074216982279827"
     },
     "user_tz": 300
    },
    "id": "bwGLVT-5-ncG",
    "outputId": "2a8bff23-be01-4c41-a652-7765c221016e"
   },
   "outputs": [
    {
     "name": "stdout",
     "output_type": "stream",
     "text": [
      "This code executes if the condition evaluates as True.\n"
     ]
    }
   ],
   "source": [
    "if not condition:\n",
    "    print('This code executes if the condition evaluates as True.')"
   ]
  },
  {
   "cell_type": "code",
   "execution_count": 27,
   "metadata": {
    "colab": {
     "base_uri": "https://localhost:8080/"
    },
    "executionInfo": {
     "elapsed": 131,
     "status": "ok",
     "timestamp": 1668012616590,
     "user": {
      "displayName": "David Feinberg",
      "userId": "10503074216982279827"
     },
     "user_tz": 300
    },
    "id": "n7NmBT1L-ncL",
    "outputId": "ea0d5422-f288-4664-d093-ed683d0a4cf2"
   },
   "outputs": [
    {
     "name": "stdout",
     "output_type": "stream",
     "text": [
      "This code executes if the condition evaluates as False.\n"
     ]
    }
   ],
   "source": [
    "condition = \"\"\n",
    "if not condition:\n",
    "    print('This code executes if the condition evaluates as False.')"
   ]
  },
  {
   "cell_type": "markdown",
   "metadata": {
    "id": "PpnOg63--ncP"
   },
   "source": [
    "## elif\n",
    "\n",
    "else if"
   ]
  },
  {
   "cell_type": "markdown",
   "metadata": {
    "id": "EZAfiWY7-ncQ"
   },
   "source": [
    "After an if statement, you can have any number of `elif`'s (meaning 'else if') to check other conditions.\n"
   ]
  },
  {
   "cell_type": "markdown",
   "metadata": {
    "id": "zx9G6i8P-ncQ"
   },
   "source": [
    "### p-values\n"
   ]
  },
  {
   "cell_type": "code",
   "execution_count": 28,
   "metadata": {
    "colab": {
     "base_uri": "https://localhost:8080/"
    },
    "executionInfo": {
     "elapsed": 135,
     "status": "ok",
     "timestamp": 1668012740732,
     "user": {
      "displayName": "David Feinberg",
      "userId": "10503074216982279827"
     },
     "user_tz": 300
    },
    "id": "XsvKUHN8-ncR",
    "outputId": "cbeae183-ff62-49a3-b83e-9561c1abc833"
   },
   "outputs": [
    {
     "name": "stdout",
     "output_type": "stream",
     "text": [
      "This p-value is highly significant at 95% Alpha.\n"
     ]
    }
   ],
   "source": [
    "p = 0.005\n",
    "\n",
    "if 0.01 < p < 0.05: ## You can put more than one comparision in the if statement.\n",
    "    print('This p-value is significant at 95% Alpha.')\n",
    "elif p <= 0.01:\n",
    "    print('This p-value is highly significant at 95% Alpha.')\n",
    "elif p >= 0.05:\n",
    "    print('This p-value is not significant at 95% Alpha.')\n"
   ]
  },
  {
   "cell_type": "markdown",
   "metadata": {
    "id": "hBiI4QMA-ncW"
   },
   "source": [
    "### Nothing happens if none of the conditions are met.\n",
    "#### To take care of this, it's always good to use an `else` statement as a fallback.\n"
   ]
  },
  {
   "cell_type": "markdown",
   "metadata": {
    "id": "bE9AAraB-ncX"
   },
   "source": [
    "## else"
   ]
  },
  {
   "cell_type": "markdown",
   "metadata": {
    "id": "nlRgLCwY-ncX"
   },
   "source": [
    "After an `if`, you can use an `else` that will run if none of the above the conditional(s) are met.\n"
   ]
  },
  {
   "cell_type": "code",
   "execution_count": 11,
   "metadata": {
    "colab": {
     "base_uri": "https://localhost:8080/"
    },
    "executionInfo": {
     "elapsed": 191,
     "status": "ok",
     "timestamp": 1668012777707,
     "user": {
      "displayName": "David Feinberg",
      "userId": "10503074216982279827"
     },
     "user_tz": 300
    },
    "id": "xRhVSISq-ncY",
    "outputId": "2930ed9a-5d0b-4df1-beee-216e67bb3fb2"
   },
   "outputs": [
    {
     "name": "stdout",
     "output_type": "stream",
     "text": [
      "This p-value is not significant at 95% Alpha.\n"
     ]
    }
   ],
   "source": [
    "p = 0.05\n",
    "\n",
    "if p <0.05:\n",
    "    print('This p-value is significant at 95% Alpha.')\n",
    "else: \n",
    "    print('This p-value is not significant at 95% Alpha.')"
   ]
  },
  {
   "cell_type": "markdown",
   "metadata": {
    "id": "VHdTUsev-ncg"
   },
   "source": [
    "Any expression that can be evaluated as a boolean, such as value comparisons, can be used with conditionals."
   ]
  },
  {
   "cell_type": "markdown",
   "metadata": {
    "id": "PmipxpoJ-ncg"
   },
   "source": [
    "### Let's use a questionnaire as an example.  Let's say we want to assign participants a different experiment based on their favourite colour."
   ]
  },
  {
   "cell_type": "code",
   "execution_count": 12,
   "metadata": {
    "colab": {
     "base_uri": "https://localhost:8080/"
    },
    "executionInfo": {
     "elapsed": 143,
     "status": "ok",
     "timestamp": 1668012854583,
     "user": {
      "displayName": "David Feinberg",
      "userId": "10503074216982279827"
     },
     "user_tz": 300
    },
    "id": "NpY62crq-nch",
    "outputId": "0a95c73d-c675-4565-abfa-123126c33404"
   },
   "outputs": [
    {
     "name": "stdout",
     "output_type": "stream",
     "text": [
      "Run Green Experiment\n"
     ]
    }
   ],
   "source": [
    "favourite_colour = \"Green\"\n",
    "\n",
    "if favourite_colour == \"Blue\":\n",
    "    print(\"Run Blue Experiment\")\n",
    "    \n",
    "elif favourite_colour == \"Green\":\n",
    "    print(\"Run Green Experiment\")\n",
    "\n",
    "else:\n",
    "    print(\"Run Red Experiment\")"
   ]
  },
  {
   "cell_type": "markdown",
   "metadata": {
    "id": "HEdh-X1s-ncm"
   },
   "source": [
    "### Question #1\n",
    "\n",
    "What will the following code snippet print out:"
   ]
  },
  {
   "cell_type": "code",
   "execution_count": 29,
   "metadata": {
    "colab": {
     "base_uri": "https://localhost:8080/"
    },
    "executionInfo": {
     "elapsed": 245,
     "status": "ok",
     "timestamp": 1668012890244,
     "user": {
      "displayName": "David Feinberg",
      "userId": "10503074216982279827"
     },
     "user_tz": 300
    },
    "id": "1BNgKUL3-ncm",
    "outputId": "b18c73ff-cebe-4e3c-e6f3-11a8b5f0847e"
   },
   "outputs": [
    {
     "name": "stdout",
     "output_type": "stream",
     "text": [
      "Paul is dead\n"
     ]
    }
   ],
   "source": [
    "John = \"dead\"\n",
    "Paul = John\n",
    "\n",
    "if Paul == \"alive\":\n",
    "    print(\"Cross Abby Road wearing shoes\")\n",
    "    \n",
    "elif Paul == John:\n",
    "    print(\"Paul is dead\")\n",
    "    \n",
    "elif John == \"John\":\n",
    "    print(\"George is curious\")\n",
    "    \n",
    "else:\n",
    "    print(\"Ringo is Thomas\")"
   ]
  },
  {
   "cell_type": "markdown",
   "metadata": {
    "id": "6DOjYL3w-ncq"
   },
   "source": [
    "A) John was assasinated  \n",
    "B) Paul is dead  \n",
    "C) George is curious  \n",
    "D) Ringo is Thomas  "
   ]
  },
  {
   "cell_type": "markdown",
   "metadata": {
    "id": "HvcEwXJx-ncr"
   },
   "source": [
    "### Question 2\n",
    "\n",
    "What will the following code snippet print out:"
   ]
  },
  {
   "cell_type": "code",
   "execution_count": 14,
   "metadata": {
    "colab": {
     "base_uri": "https://localhost:8080/"
    },
    "executionInfo": {
     "elapsed": 3,
     "status": "ok",
     "timestamp": 1668012978356,
     "user": {
      "displayName": "David Feinberg",
      "userId": "10503074216982279827"
     },
     "user_tz": 300
    },
    "id": "rXcIE7RF-nct",
    "outputId": "4245ed90-0e6f-48ca-f43c-bebb05a360cc"
   },
   "outputs": [
    {
     "name": "stdout",
     "output_type": "stream",
     "text": [
      "I did Math\n"
     ]
    }
   ],
   "source": [
    "if 1 + 1 == 2:\n",
    "    print(\"I did Math\")\n",
    "elif 1/0:\n",
    "    print(\"I broke Math\")\n",
    "else:\n",
    "    print(\"I didn't do math\")"
   ]
  },
  {
   "cell_type": "markdown",
   "metadata": {
    "id": "jeZwMXwF-ncx"
   },
   "source": [
    "A) I did Math  \n",
    "B) I broke Math  \n",
    "C) I didn't do math  \n",
    "D) This code won't execute"
   ]
  },
  {
   "cell_type": "markdown",
   "metadata": {
    "id": "EqdA5NVy-ncy"
   },
   "source": [
    "### Question #3"
   ]
  },
  {
   "cell_type": "markdown",
   "metadata": {
    "id": "EkqeCVBu-ncz"
   },
   "source": [
    "What will the following code snippet print out:"
   ]
  },
  {
   "cell_type": "code",
   "execution_count": 15,
   "metadata": {
    "colab": {
     "base_uri": "https://localhost:8080/"
    },
    "executionInfo": {
     "elapsed": 4,
     "status": "ok",
     "timestamp": 1668013052019,
     "user": {
      "displayName": "David Feinberg",
      "userId": "10503074216982279827"
     },
     "user_tz": 300
    },
    "id": "PwdYNv_X-nc0",
    "outputId": "6a833c5b-5062-42c6-9407-b24ee6783dbe"
   },
   "outputs": [
    {
     "name": "stdout",
     "output_type": "stream",
     "text": [
      "Yay Python!\n"
     ]
    }
   ],
   "source": [
    "python = \"great\"\n",
    "\n",
    "if True:\n",
    "    if python == \"great\":\n",
    "        print(\"Yay Python!\")\n",
    "    else:\n",
    "        print(\"Oh no.\")\n",
    "else:\n",
    "    print(\"This tastes like burning\")"
   ]
  },
  {
   "cell_type": "markdown",
   "metadata": {
    "id": "Bl8n7yLA-nc3"
   },
   "source": [
    "A) Yay Python  \n",
    "B) Oh no.  \n",
    "C) I'm here  \n",
    "D) This code won't execute"
   ]
  },
  {
   "cell_type": "markdown",
   "metadata": {
    "collapsed": true,
    "id": "r6uQ3x3A-nc4"
   },
   "source": [
    "## Properties of conditionals\n",
    "\n",
    "- All conditionals start with an `if`, can have an optional and variable number of `elif`'s and an optional `else` statement\n",
    "   - `else always goes last if you use it\n",
    "- Conditionals can take any expression that can be evaluated as \n",
    "    - `True`, `False`\n",
    "    - `<`, `>`, `==`, `!=` `<=`, and `>=`\n",
    "    - `is`, `is not`\n",
    "    - see the tables below\n",
    "- The order of conditional blocks is always `if` then `elif`(s) then `else`\n",
    "- Code is only ever executed if the condition is met"
   ]
  },
  {
   "cell_type": "markdown",
   "metadata": {
    "id": "rm0XmzrZ-nc4"
   },
   "source": [
    "<table border=\"1\">\n",
    "\t<H2><center>Comparision operators in Python</center></H2>\n",
    "\t<tbody>\n",
    "\t\t<tr>\n",
    "\t\t\t<th>Operator</th>\n",
    "\t\t\t<th>Meaning</th>\n",
    "\t\t\t<th>Example</th>\n",
    "\t\t</tr>\n",
    "\t\t<tr>\n",
    "\t\t\t<td>&gt;</td>\n",
    "\t\t\t<td>Greater that - True if left operand is greater than the right</td>\n",
    "\t\t\t<td>x &gt; y</td>\n",
    "\t\t</tr>\n",
    "\t\t<tr>\n",
    "\t\t\t<td>&lt;</td>\n",
    "\t\t\t<td>Less that - True if left operand is less than the right</td>\n",
    "\t\t\t<td>x &lt; y</td>\n",
    "\t\t</tr>\n",
    "\t\t<tr>\n",
    "\t\t\t<td>==</td>\n",
    "\t\t\t<td>Equal to - True if both operands are equal</td>\n",
    "\t\t\t<td>x == y</td>\n",
    "\t\t</tr>\n",
    "\t\t<tr>\n",
    "\t\t\t<td>!=</td>\n",
    "\t\t\t<td>Not equal to - True if operands are not equal</td>\n",
    "\t\t\t<td>x != y</td>\n",
    "\t\t</tr>\n",
    "\t\t<tr>\n",
    "\t\t\t<td>&gt;=</td>\n",
    "\t\t\t<td>Greater than or equal to - True if left operand is greater than or equal to the right</td>\n",
    "\t\t\t<td>x &gt;= y</td>\n",
    "\t\t</tr>\n",
    "\t\t<tr>\n",
    "\t\t\t<td>&lt;=</td>\n",
    "\t\t\t<td>Less than or equal to - True if left operand is less than or equal to the right</td>\n",
    "\t\t\t<td>x &lt;= y</td>\n",
    "\t\t</tr>\n",
    "\t</tbody>\n",
    "</table>\n"
   ]
  },
  {
   "cell_type": "markdown",
   "metadata": {
    "id": "2fQTjep8-nc4"
   },
   "source": [
    "<table border=\"1\">\n",
    "    <H2><center>Identity operators in Python</center></H2>\n",
    "\t<tbody>\n",
    "\t\t<tr>\n",
    "\t\t\t<th>Operator</th>\n",
    "\t\t\t<th>Meaning</th>\n",
    "\t\t\t<th>Example</th>\n",
    "\t\t</tr>\n",
    "\t\t<tr>\n",
    "\t\t\t<td>is</td>\n",
    "\t\t\t<td>True if the operands are identical (refer to the same object)</td>\n",
    "\t\t\t<td>x is True</td>\n",
    "\t\t</tr>\n",
    "\t\t<tr>\n",
    "\t\t\t<td>is not</td>\n",
    "\t\t\t<td>True if the operands are not identical (do not refer to the same object)</td>\n",
    "\t\t\t<td>x is not True</td>\n",
    "\t\t</tr>\n",
    "\t</tbody>\n",
    "</table>\n",
    "\n",
    "https://www.programiz.com/python-programming/operators"
   ]
  }
 ],
 "metadata": {
  "celltoolbar": "Slideshow",
  "colab": {
   "collapsed_sections": [],
   "provenance": []
  },
  "kernelspec": {
   "display_name": "Python 3 (ipykernel)",
   "language": "python",
   "name": "python3"
  },
  "language_info": {
   "codemirror_mode": {
    "name": "ipython",
    "version": 3
   },
   "file_extension": ".py",
   "mimetype": "text/x-python",
   "name": "python",
   "nbconvert_exporter": "python",
   "pygments_lexer": "ipython3",
   "version": "3.10.8"
  },
  "toc": {
   "base_numbering": 1,
   "nav_menu": {},
   "number_sections": false,
   "sideBar": false,
   "skip_h1_title": false,
   "title_cell": "Table of Contents",
   "title_sidebar": "Contents",
   "toc_cell": false,
   "toc_position": {},
   "toc_section_display": false,
   "toc_window_display": false
  }
 },
 "nbformat": 4,
 "nbformat_minor": 1
}
