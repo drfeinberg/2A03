{
 "cells": [
  {
   "cell_type": "markdown",
   "metadata": {
    "colab_type": "text",
    "id": "gcxHqQho2iZ9"
   },
   "source": [
    "# Google Colab and Jupyter Notebooks"
   ]
  },
  {
   "cell_type": "markdown",
   "metadata": {
    "colab_type": "text",
    "id": "8U1KD-eC2iZ_"
   },
   "source": [
    "\n",
    "Jupyter notebooks are a way to combine executable code, code outputs, and text into one connected file.  Google Colab is based on Jupyter notebooks.\n",
    "\n",
    "\n",
    "The official documentation from project Jupyter is available \n",
    "<a href=\"https://jupyter-notebook.readthedocs.io/en/stable/\">here</a>\n",
    "and they also have some example notebooks \n",
    "<a href=\"https://github.com/jupyter/notebook/tree/master/docs/source/examples/Notebook\" >here</a>\n"
   ]
  },
  {
   "cell_type": "markdown",
   "metadata": {
    "colab_type": "text",
    "id": "WCLt7xXuOk-B"
   },
   "source": [
    "#To Run `R` in Google Colab, follow this link:\n",
    "\n",
    "https://colab.research.google.com/notebook#create=true&language=r"
   ]
  },
  {
   "cell_type": "markdown",
   "metadata": {
    "colab_type": "text",
    "id": "sEI4Yg3J2iaD"
   },
   "source": [
    "## Cells"
   ]
  },
  {
   "cell_type": "markdown",
   "metadata": {
    "colab_type": "text",
    "id": "SDMYRNoZ2iaE"
   },
   "source": [
    "The main organizational structure of the notebook are 'cells'."
   ]
  },
  {
   "cell_type": "markdown",
   "metadata": {
    "colab_type": "text",
    "id": "BYYpS4kL2iaG"
   },
   "source": [
    "Cells are an independent 'unit'. When you click into a cell, you can 'run' it by clicking Shift + Enter, or by pressing the play button on the left of the cell. \n",
    "\n",
    "- Cells come in different types for writing different things - mainly, text or code.\n",
    "    - Text cells use a language called markdown\n",
    "        - Markdown is like html, and you can also use html in text cells if you like for things like _italics_,  **bold**, <font size=32> size</font>, and <font color=\"green\"> colour </font>\n",
    "    - The type of cell can be selected in the button at the top of the screen  \n",
    "    - <font color=\"red\"> **Remember that your Python code won't run if you are in a text cell** </font>\n",
    "- Don't worry too much about learning markdown.\n",
    "    - Most of the things you would want to do are accessable by the toolbar at the top of the cell that is activated when you click into the text cell to edit it.  \n",
    "- To learn more about markdown, look here: \n",
    "https://colab.research.google.com/notebooks/markdown_guide.ipynb"
   ]
  },
  {
   "cell_type": "markdown",
   "metadata": {
    "colab_type": "text",
    "id": "xUHEhxrj2iaL"
   },
   "source": [
    "# Don't Panic!\n",
    "\n",
    "Learning Markdown is not a requirement for this course.  It makes nice presentations, but we're here to learn more important things."
   ]
  },
  {
   "cell_type": "markdown",
   "metadata": {
    "colab_type": "text",
    "id": "Z5ZFqOtQ2iaM"
   },
   "source": [
    "### Code Cells\n",
    "\n",
    "- You will need to know how to use code cells for this course.  \n",
    "- Code cells run Python code."
   ]
  },
  {
   "cell_type": "code",
   "execution_count": 0,
   "metadata": {
    "colab": {},
    "colab_type": "code",
    "id": "eqPcv_-42iaN"
   },
   "outputs": [],
   "source": [
    "a = 1\n",
    "b = 2"
   ]
  },
  {
   "cell_type": "markdown",
   "metadata": {
    "colab_type": "text",
    "id": "gAdq0ChrPYDL"
   },
   "source": [
    "Cells can also have output, that gets printed out below the cell."
   ]
  },
  {
   "cell_type": "code",
   "execution_count": 2,
   "metadata": {
    "colab": {
     "base_uri": "https://localhost:8080/",
     "height": 35
    },
    "colab_type": "code",
    "executionInfo": {
     "elapsed": 519,
     "status": "ok",
     "timestamp": 1589292073246,
     "user": {
      "displayName": "David Feinberg",
      "photoUrl": "",
      "userId": "10503074216982279827"
     },
     "user_tz": 240
    },
    "id": "NnF6qxoC2iaU",
    "outputId": "e507a959-4904-4535-bd76-d98ff0dd71ff"
   },
   "outputs": [
    {
     "name": "stdout",
     "output_type": "stream",
     "text": [
      "3\n"
     ]
    }
   ],
   "source": [
    "c = a + b\n",
    "print(c)"
   ]
  },
  {
   "cell_type": "code",
   "execution_count": 0,
   "metadata": {
    "colab": {},
    "colab_type": "code",
    "id": "abuwqZuzMHKd"
   },
   "outputs": [],
   "source": []
  },
  {
   "cell_type": "markdown",
   "metadata": {
    "colab_type": "text",
    "id": "D9IdS7Vi2iab"
   },
   "source": [
    "### Notebooks will print a variable if it is the last line of a cell."
   ]
  },
  {
   "cell_type": "code",
   "execution_count": 3,
   "metadata": {
    "colab": {
     "base_uri": "https://localhost:8080/",
     "height": 35
    },
    "colab_type": "code",
    "executionInfo": {
     "elapsed": 445,
     "status": "ok",
     "timestamp": 1589292079418,
     "user": {
      "displayName": "David Feinberg",
      "photoUrl": "",
      "userId": "10503074216982279827"
     },
     "user_tz": 240
    },
    "id": "Exdfm6Fg2iab",
    "outputId": "85c3fe8a-fe28-4f09-b3a1-74b6ac352932"
   },
   "outputs": [
    {
     "data": {
      "text/plain": [
       "1"
      ]
     },
     "execution_count": 3,
     "metadata": {
      "tags": []
     },
     "output_type": "execute_result"
    }
   ],
   "source": [
    "a"
   ]
  },
  {
   "cell_type": "code",
   "execution_count": 4,
   "metadata": {
    "colab": {
     "base_uri": "https://localhost:8080/",
     "height": 35
    },
    "colab_type": "code",
    "executionInfo": {
     "elapsed": 356,
     "status": "ok",
     "timestamp": 1589292081368,
     "user": {
      "displayName": "David Feinberg",
      "photoUrl": "",
      "userId": "10503074216982279827"
     },
     "user_tz": 240
    },
    "id": "iTzmZ_su2iah",
    "outputId": "83972655-03cf-4ab9-cb15-a068f9e83e35"
   },
   "outputs": [
    {
     "data": {
      "text/plain": [
       "2"
      ]
     },
     "execution_count": 4,
     "metadata": {
      "tags": []
     },
     "output_type": "execute_result"
    }
   ],
   "source": [
    "a\n",
    "b"
   ]
  },
  {
   "cell_type": "code",
   "execution_count": 5,
   "metadata": {
    "colab": {
     "base_uri": "https://localhost:8080/",
     "height": 35
    },
    "colab_type": "code",
    "executionInfo": {
     "elapsed": 384,
     "status": "ok",
     "timestamp": 1589292087118,
     "user": {
      "displayName": "David Feinberg",
      "photoUrl": "",
      "userId": "10503074216982279827"
     },
     "user_tz": 240
    },
    "id": "74aA3GMo2ian",
    "outputId": "5eaebb49-2070-47b4-9702-0f66014a5b66"
   },
   "outputs": [
    {
     "data": {
      "text/plain": [
       "3"
      ]
     },
     "execution_count": 5,
     "metadata": {
      "tags": []
     },
     "output_type": "execute_result"
    }
   ],
   "source": [
    "a\n",
    "b\n",
    "c"
   ]
  },
  {
   "cell_type": "markdown",
   "metadata": {
    "colab_type": "text",
    "id": "p6mu9Gz82iar"
   },
   "source": [
    "### Running Cells\n",
    "\n",
    "- The numbers in the square brackets to the left of a cell show which cells have been run, and in what order.\n",
    "    - When the wheel is spinning, the cell is currently running\n",
    "    - You do not need to run cells in order, but you should run cells in order. Running cells out of orrder is increadibly dangerous.  Be very careful that you try to run cells in the right order."
   ]
  },
  {
   "cell_type": "markdown",
   "metadata": {
    "colab_type": "text",
    "id": "XQfD4a762ias"
   },
   "source": [
    "## Accessing Documentation"
   ]
  },
  {
   "cell_type": "markdown",
   "metadata": {
    "colab_type": "text",
    "id": "U0eds08L2iau"
   },
   "source": [
    "Google Colab has useful shortcuts. Add a single '?' after a function or class get a window with the documentation."
   ]
  },
  {
   "cell_type": "markdown",
   "metadata": {
    "colab_type": "text",
    "id": "Aq_0QGoPUcH-"
   },
   "source": [
    "For example, execute the following cell to see the documentation for the `abs` function\n"
   ]
  },
  {
   "cell_type": "code",
   "execution_count": 0,
   "metadata": {
    "colab": {},
    "colab_type": "code",
    "id": "GxOGZrPw2iau"
   },
   "outputs": [],
   "source": [
    "abs?"
   ]
  },
  {
   "cell_type": "markdown",
   "metadata": {
    "colab_type": "text",
    "id": "kcV4MkXY2iay"
   },
   "source": [
    "## Autocomplete"
   ]
  },
  {
   "cell_type": "markdown",
   "metadata": {
    "colab_type": "text",
    "id": "--e2HJzN2iaz"
   },
   "source": [
    "Notebooks also have\n",
    "<a href=\"https://en.wikipedia.org/wiki/Command-line_completion\" class=\"alert-link\">tab complete</a>\n",
    "capacities, which can autocomplete what you are typing, and/or be used to explore what code is available.  \n",
    "</div>"
   ]
  },
  {
   "cell_type": "code",
   "execution_count": 0,
   "metadata": {
    "colab": {},
    "colab_type": "code",
    "id": "1gYi_Waz2ia1"
   },
   "outputs": [],
   "source": [
    "# Type \"r\"... see the popup menu?\n",
    "# Press tab, it will complete the word.  \n",
    "# If there's more than once choice, it picks the first in alphabetic order.\n",
    "r"
   ]
  },
  {
   "cell_type": "markdown",
   "metadata": {
    "colab_type": "text",
    "id": "HbJQeDNYVLzk"
   },
   "source": [
    "If there is only one option, tab-complete will auto-complete what you are typing.  You can sometimes just hit enter and it will finish the word for you.\n",
    "Type `ran` below and try it..."
   ]
  },
  {
   "cell_type": "code",
   "execution_count": 0,
   "metadata": {
    "colab": {},
    "colab_type": "code",
    "id": "G4Xo64172ia5"
   },
   "outputs": [],
   "source": [
    "ran"
   ]
  },
  {
   "cell_type": "markdown",
   "metadata": {
    "colab_type": "text",
    "id": "lxAh7ITW2ia9"
   },
   "source": [
    "## Web Browser"
   ]
  },
  {
   "cell_type": "markdown",
   "metadata": {
    "colab_type": "text",
    "id": "kGYWrFUH2ia-"
   },
   "source": [
    "Google Colab notebooks display in a web browser. They are hosted on the web, and it also can use google servers to execute your code.\n",
    "\n",
    "It is private by default.\n"
   ]
  },
  {
   "cell_type": "markdown",
   "metadata": {
    "colab_type": "text",
    "id": "vbxICrIDVvTf"
   },
   "source": [
    "## Saving your code\n",
    "There are several options to save your code. They are available in the `File` menu.  Your code will be saved as an `ipynb` file, which is Jupyter Notebook's file format (it's just a `JSON` file).\n",
    "\n",
    "Here are the most likely options for you to use in this class\n",
    "\n",
    "- Save a copy on Drive\n",
    "  - This saves a copy of your code in your Google Drive Account and is private.\n",
    "- Download ipynb\n",
    "  - This saves a copy of your notebook to your computer and is private.\n",
    "  - You could view it in Anaconda's Jupyter Notebooks.\n",
    "- Download python\n",
    "  - This converts the notebook into a python file and saves that to your computer\n",
    "  - You could run these files in Python directly on your computer.\n",
    "- Save  \n",
    "  - This saves to your last used option...\n"
   ]
  },
  {
   "cell_type": "markdown",
   "metadata": {
    "colab_type": "text",
    "id": "-ls1PiC_2ia_"
   },
   "source": [
    "## Runtimes"
   ]
  },
  {
   "cell_type": "markdown",
   "metadata": {
    "colab_type": "text",
    "id": "9pwUvxBV2ibA"
   },
   "source": [
    "The 'runtime' is essentially a kernal... the thing that executes your code. It is what connects the notebook (as you see it) with the part of your computer that runs code. "
   ]
  },
  {
   "cell_type": "markdown",
   "metadata": {
    "colab_type": "text",
    "id": "gVTWA1022ibB"
   },
   "source": [
    "Your runtime also stores your `namespace`\n",
    "- A `namespace` is what we call the set of variables and code that you have declared (executed). \n",
    "\n",
    "Sometimes your code doesn't work right even though you really think it's supposed to. If that happens, it can be useful to clear and restart the runtime. You can do this from the 'runtime' drop down menu, at the top, optionally also clearing all ouputs. Note that this will erase any variables that are stored in memory. If that still doesn't work, try 'factory reset runtime', which will erase all the packages you installed also."
   ]
  },
  {
   "cell_type": "markdown",
   "metadata": {
    "colab_type": "text",
    "id": "mGZPTfT-2ibG"
   },
   "source": [
    "# Errors are okay!\n",
    "\n",
    "\n",
    "- Programs will crash if they contain code the computer can’t understand\n",
    "    - This causes Python to show an error message. \n",
    "- Error messages won’t break your computer\n",
    "    - Don’t be afraid to make mistakes.\n",
    "    - A crash just means the program stopped running unexpectedly.\n"
   ]
  },
  {
   "cell_type": "markdown",
   "metadata": {
    "colab_type": "text",
    "id": "qkDMU3yL2ibH"
   },
   "source": [
    "## Googling examples and error messages\n",
    "\n",
    "- Most programmers use google to figure out their error messages.  \n",
    "    - All assessments in this class will be open book/note/web.\n",
    "    - You will always be able to use the web for help when programming in this course\n",
    "\n",
    "Being able to look up examples and error message online and understand them it is perhaps the most important skill to develop throughout this course.</div>\n",
    "\n",
    "- The website Stack Overflow: https://stackoverflow.com/ is a place where coders post questions and get help. \n",
    "    - Your question has likely already been answered. \n",
    "    - You can ask your own questions if they have not been answered yet\n",
    "    - Use Google to find your answers on Stack Overflow\n",
    "\n",
    "Google colab automatically can search your error message on stack overflow.  Your milage may vary...\n"
   ]
  }
 ],
 "metadata": {
  "celltoolbar": "Slideshow",
  "colab": {
   "collapsed_sections": [],
   "name": "02-GoogleColabAndJupyterNotebooks.ipynb",
   "provenance": []
  },
  "kernelspec": {
   "display_name": "Python 3 (ipykernel)",
   "language": "python",
   "name": "python3"
  },
  "language_info": {
   "codemirror_mode": {
    "name": "ipython",
    "version": 3
   },
   "file_extension": ".py",
   "mimetype": "text/x-python",
   "name": "python",
   "nbconvert_exporter": "python",
   "pygments_lexer": "ipython3",
   "version": "3.10.8"
  }
 },
 "nbformat": 4,
 "nbformat_minor": 1
}
